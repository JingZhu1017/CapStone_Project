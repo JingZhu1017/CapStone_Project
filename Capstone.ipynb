{
 "cells": [
  {
   "cell_type": "markdown",
   "id": "e3106ca1",
   "metadata": {},
   "source": [
    "### Natural Language Processing and Sentiment Analysis for Support Desk Comment Review\n"
   ]
  },
  {
   "cell_type": "markdown",
   "id": "c08123a5",
   "metadata": {},
   "source": [
    "### Student Names: Trang Nguyen,Hassaan Saleh,Surya Srirangarajan,Kathy Thompson,Jing Zhu\n"
   ]
  },
  {
   "cell_type": "markdown",
   "id": "6d14a047",
   "metadata": {},
   "source": [
    "# Install Packages and Libraries"
   ]
  },
  {
   "cell_type": "code",
   "execution_count": 129,
   "id": "7e264dd4",
   "metadata": {
    "scrolled": false
   },
   "outputs": [
    {
     "name": "stdout",
     "output_type": "stream",
     "text": [
      "Requirement already satisfied: wordcloud in /home/ec2-user/anaconda3/envs/chainer_p36/lib/python3.6/site-packages (1.8.1)\n",
      "Requirement already satisfied: matplotlib in /home/ec2-user/anaconda3/envs/chainer_p36/lib/python3.6/site-packages (from wordcloud) (3.3.4)\n",
      "Requirement already satisfied: numpy>=1.6.1 in /home/ec2-user/anaconda3/envs/chainer_p36/lib/python3.6/site-packages (from wordcloud) (1.19.5)\n",
      "Requirement already satisfied: pillow in /home/ec2-user/anaconda3/envs/chainer_p36/lib/python3.6/site-packages (from wordcloud) (7.2.0)\n",
      "Requirement already satisfied: cycler>=0.10 in /home/ec2-user/anaconda3/envs/chainer_p36/lib/python3.6/site-packages (from matplotlib->wordcloud) (0.10.0)\n",
      "Requirement already satisfied: kiwisolver>=1.0.1 in /home/ec2-user/anaconda3/envs/chainer_p36/lib/python3.6/site-packages (from matplotlib->wordcloud) (1.3.1)\n",
      "Requirement already satisfied: python-dateutil>=2.1 in /home/ec2-user/anaconda3/envs/chainer_p36/lib/python3.6/site-packages (from matplotlib->wordcloud) (2.8.1)\n",
      "Requirement already satisfied: pyparsing!=2.0.4,!=2.1.2,!=2.1.6,>=2.0.3 in /home/ec2-user/anaconda3/envs/chainer_p36/lib/python3.6/site-packages (from matplotlib->wordcloud) (2.4.7)\n",
      "Requirement already satisfied: six in /home/ec2-user/anaconda3/envs/chainer_p36/lib/python3.6/site-packages (from cycler>=0.10->matplotlib->wordcloud) (1.15.0)\n"
     ]
    }
   ],
   "source": [
    "!pip install wordcloud"
   ]
  },
  {
   "cell_type": "code",
   "execution_count": 130,
   "id": "7c86ddf7",
   "metadata": {
    "scrolled": false
   },
   "outputs": [
    {
     "name": "stdout",
     "output_type": "stream",
     "text": [
      "Requirement already satisfied: vaderSentiment in /home/ec2-user/anaconda3/envs/chainer_p36/lib/python3.6/site-packages (3.3.2)\n",
      "Requirement already satisfied: requests in /home/ec2-user/anaconda3/envs/chainer_p36/lib/python3.6/site-packages (from vaderSentiment) (2.25.1)\n",
      "Requirement already satisfied: chardet<5,>=3.0.2 in /home/ec2-user/anaconda3/envs/chainer_p36/lib/python3.6/site-packages (from requests->vaderSentiment) (3.0.4)\n",
      "Requirement already satisfied: idna<3,>=2.5 in /home/ec2-user/anaconda3/envs/chainer_p36/lib/python3.6/site-packages (from requests->vaderSentiment) (2.10)\n",
      "Requirement already satisfied: certifi>=2017.4.17 in /home/ec2-user/anaconda3/envs/chainer_p36/lib/python3.6/site-packages (from requests->vaderSentiment) (2020.12.5)\n",
      "Requirement already satisfied: urllib3<1.27,>=1.21.1 in /home/ec2-user/anaconda3/envs/chainer_p36/lib/python3.6/site-packages (from requests->vaderSentiment) (1.26.4)\n",
      "Note: you may need to restart the kernel to use updated packages.\n"
     ]
    }
   ],
   "source": [
    "pip install vaderSentiment"
   ]
  },
  {
   "cell_type": "code",
   "execution_count": 131,
   "id": "da8c5324",
   "metadata": {
    "scrolled": true
   },
   "outputs": [
    {
     "name": "stdout",
     "output_type": "stream",
     "text": [
      "Requirement already satisfied: spacy in /home/ec2-user/anaconda3/envs/chainer_p36/lib/python3.6/site-packages (3.0.6)\n",
      "Requirement already satisfied: typer<0.4.0,>=0.3.0 in /home/ec2-user/anaconda3/envs/chainer_p36/lib/python3.6/site-packages (from spacy) (0.3.2)\n",
      "Requirement already satisfied: typing-extensions<4.0.0.0,>=3.7.4 in /home/ec2-user/anaconda3/envs/chainer_p36/lib/python3.6/site-packages (from spacy) (3.10.0.0)\n",
      "Requirement already satisfied: jinja2 in /home/ec2-user/anaconda3/envs/chainer_p36/lib/python3.6/site-packages (from spacy) (2.11.3)\n",
      "Requirement already satisfied: requests<3.0.0,>=2.13.0 in /home/ec2-user/anaconda3/envs/chainer_p36/lib/python3.6/site-packages (from spacy) (2.25.1)\n",
      "Requirement already satisfied: blis<0.8.0,>=0.4.0 in /home/ec2-user/anaconda3/envs/chainer_p36/lib/python3.6/site-packages (from spacy) (0.7.4)\n",
      "Requirement already satisfied: srsly<3.0.0,>=2.4.1 in /home/ec2-user/anaconda3/envs/chainer_p36/lib/python3.6/site-packages (from spacy) (2.4.1)\n",
      "Requirement already satisfied: preshed<3.1.0,>=3.0.2 in /home/ec2-user/anaconda3/envs/chainer_p36/lib/python3.6/site-packages (from spacy) (3.0.5)\n",
      "Requirement already satisfied: setuptools in /home/ec2-user/anaconda3/envs/chainer_p36/lib/python3.6/site-packages (from spacy) (49.6.0.post20210108)\n",
      "Requirement already satisfied: wasabi<1.1.0,>=0.8.1 in /home/ec2-user/anaconda3/envs/chainer_p36/lib/python3.6/site-packages (from spacy) (0.8.2)\n",
      "Requirement already satisfied: tqdm<5.0.0,>=4.38.0 in /home/ec2-user/anaconda3/envs/chainer_p36/lib/python3.6/site-packages (from spacy) (4.60.0)\n",
      "Requirement already satisfied: pydantic<1.8.0,>=1.7.1 in /home/ec2-user/anaconda3/envs/chainer_p36/lib/python3.6/site-packages (from spacy) (1.7.3)\n",
      "Requirement already satisfied: packaging>=20.0 in /home/ec2-user/anaconda3/envs/chainer_p36/lib/python3.6/site-packages (from spacy) (20.9)\n",
      "Requirement already satisfied: catalogue<2.1.0,>=2.0.3 in /home/ec2-user/anaconda3/envs/chainer_p36/lib/python3.6/site-packages (from spacy) (2.0.4)\n",
      "Requirement already satisfied: pathy>=0.3.5 in /home/ec2-user/anaconda3/envs/chainer_p36/lib/python3.6/site-packages (from spacy) (0.5.2)\n",
      "Requirement already satisfied: murmurhash<1.1.0,>=0.28.0 in /home/ec2-user/anaconda3/envs/chainer_p36/lib/python3.6/site-packages (from spacy) (1.0.5)\n",
      "Requirement already satisfied: spacy-legacy<3.1.0,>=3.0.4 in /home/ec2-user/anaconda3/envs/chainer_p36/lib/python3.6/site-packages (from spacy) (3.0.5)\n",
      "Requirement already satisfied: cymem<2.1.0,>=2.0.2 in /home/ec2-user/anaconda3/envs/chainer_p36/lib/python3.6/site-packages (from spacy) (2.0.5)\n",
      "Requirement already satisfied: numpy>=1.15.0 in /home/ec2-user/anaconda3/envs/chainer_p36/lib/python3.6/site-packages (from spacy) (1.19.5)\n",
      "Requirement already satisfied: thinc<8.1.0,>=8.0.3 in /home/ec2-user/anaconda3/envs/chainer_p36/lib/python3.6/site-packages (from spacy) (8.0.3)\n",
      "Requirement already satisfied: zipp>=0.5 in /home/ec2-user/anaconda3/envs/chainer_p36/lib/python3.6/site-packages (from catalogue<2.1.0,>=2.0.3->spacy) (3.4.0)\n",
      "Requirement already satisfied: pyparsing>=2.0.2 in /home/ec2-user/anaconda3/envs/chainer_p36/lib/python3.6/site-packages (from packaging>=20.0->spacy) (2.4.7)\n",
      "Requirement already satisfied: smart-open<4.0.0,>=2.2.0 in /home/ec2-user/anaconda3/envs/chainer_p36/lib/python3.6/site-packages (from pathy>=0.3.5->spacy) (3.0.0)\n",
      "Requirement already satisfied: dataclasses<1.0,>=0.6 in /home/ec2-user/anaconda3/envs/chainer_p36/lib/python3.6/site-packages (from pathy>=0.3.5->spacy) (0.7)\n",
      "Requirement already satisfied: urllib3<1.27,>=1.21.1 in /home/ec2-user/anaconda3/envs/chainer_p36/lib/python3.6/site-packages (from requests<3.0.0,>=2.13.0->spacy) (1.26.4)\n",
      "Requirement already satisfied: idna<3,>=2.5 in /home/ec2-user/anaconda3/envs/chainer_p36/lib/python3.6/site-packages (from requests<3.0.0,>=2.13.0->spacy) (2.10)\n",
      "Requirement already satisfied: chardet<5,>=3.0.2 in /home/ec2-user/anaconda3/envs/chainer_p36/lib/python3.6/site-packages (from requests<3.0.0,>=2.13.0->spacy) (3.0.4)\n",
      "Requirement already satisfied: certifi>=2017.4.17 in /home/ec2-user/anaconda3/envs/chainer_p36/lib/python3.6/site-packages (from requests<3.0.0,>=2.13.0->spacy) (2020.12.5)\n",
      "Requirement already satisfied: contextvars<3,>=2.4 in /home/ec2-user/anaconda3/envs/chainer_p36/lib/python3.6/site-packages (from thinc<8.1.0,>=8.0.3->spacy) (2.4)\n",
      "Requirement already satisfied: immutables>=0.9 in /home/ec2-user/anaconda3/envs/chainer_p36/lib/python3.6/site-packages (from contextvars<3,>=2.4->thinc<8.1.0,>=8.0.3->spacy) (0.15)\n",
      "Requirement already satisfied: click<7.2.0,>=7.1.1 in /home/ec2-user/anaconda3/envs/chainer_p36/lib/python3.6/site-packages (from typer<0.4.0,>=0.3.0->spacy) (7.1.2)\n",
      "Requirement already satisfied: MarkupSafe>=0.23 in /home/ec2-user/anaconda3/envs/chainer_p36/lib/python3.6/site-packages (from jinja2->spacy) (1.1.1)\n"
     ]
    }
   ],
   "source": [
    "!pip install spacy"
   ]
  },
  {
   "cell_type": "code",
   "execution_count": 132,
   "id": "bd5fe545",
   "metadata": {
    "scrolled": true
   },
   "outputs": [
    {
     "name": "stdout",
     "output_type": "stream",
     "text": [
      "Requirement already satisfied: vpython in /home/ec2-user/anaconda3/envs/chainer_p36/lib/python3.6/site-packages (7.6.1)\n",
      "Requirement already satisfied: numpy in /home/ec2-user/anaconda3/envs/chainer_p36/lib/python3.6/site-packages (from vpython) (1.19.5)\n",
      "Requirement already satisfied: ipykernel in /home/ec2-user/anaconda3/envs/chainer_p36/lib/python3.6/site-packages (from vpython) (5.5.0)\n",
      "Requirement already satisfied: jupyter-server-proxy in /home/ec2-user/anaconda3/envs/chainer_p36/lib/python3.6/site-packages (from vpython) (3.0.2)\n",
      "Requirement already satisfied: autobahn in /home/ec2-user/anaconda3/envs/chainer_p36/lib/python3.6/site-packages (from vpython) (21.2.1)\n",
      "Requirement already satisfied: jupyter in /home/ec2-user/anaconda3/envs/chainer_p36/lib/python3.6/site-packages (from vpython) (1.0.0)\n",
      "Requirement already satisfied: hyperlink>=20.0.1 in /home/ec2-user/anaconda3/envs/chainer_p36/lib/python3.6/site-packages (from autobahn->vpython) (21.0.0)\n",
      "Requirement already satisfied: txaio>=20.4.1 in /home/ec2-user/anaconda3/envs/chainer_p36/lib/python3.6/site-packages (from autobahn->vpython) (21.2.1)\n",
      "Requirement already satisfied: cryptography>=2.9.2 in /home/ec2-user/anaconda3/envs/chainer_p36/lib/python3.6/site-packages (from autobahn->vpython) (3.4.4)\n",
      "Requirement already satisfied: cffi>=1.12 in /home/ec2-user/anaconda3/envs/chainer_p36/lib/python3.6/site-packages (from cryptography>=2.9.2->autobahn->vpython) (1.14.5)\n",
      "Requirement already satisfied: pycparser in /home/ec2-user/anaconda3/envs/chainer_p36/lib/python3.6/site-packages (from cffi>=1.12->cryptography>=2.9.2->autobahn->vpython) (2.20)\n",
      "Requirement already satisfied: idna>=2.5 in /home/ec2-user/anaconda3/envs/chainer_p36/lib/python3.6/site-packages (from hyperlink>=20.0.1->autobahn->vpython) (2.10)\n",
      "Requirement already satisfied: tornado>=4.2 in /home/ec2-user/anaconda3/envs/chainer_p36/lib/python3.6/site-packages (from ipykernel->vpython) (6.1)\n",
      "Requirement already satisfied: traitlets>=4.1.0 in /home/ec2-user/anaconda3/envs/chainer_p36/lib/python3.6/site-packages (from ipykernel->vpython) (4.3.3)\n",
      "Requirement already satisfied: ipython>=5.0.0 in /home/ec2-user/anaconda3/envs/chainer_p36/lib/python3.6/site-packages (from ipykernel->vpython) (7.16.1)\n",
      "Requirement already satisfied: jupyter-client in /home/ec2-user/anaconda3/envs/chainer_p36/lib/python3.6/site-packages (from ipykernel->vpython) (6.1.11)\n",
      "Requirement already satisfied: pickleshare in /home/ec2-user/anaconda3/envs/chainer_p36/lib/python3.6/site-packages (from ipython>=5.0.0->ipykernel->vpython) (0.7.5)\n",
      "Requirement already satisfied: pexpect in /home/ec2-user/anaconda3/envs/chainer_p36/lib/python3.6/site-packages (from ipython>=5.0.0->ipykernel->vpython) (4.8.0)\n",
      "Requirement already satisfied: setuptools>=18.5 in /home/ec2-user/anaconda3/envs/chainer_p36/lib/python3.6/site-packages (from ipython>=5.0.0->ipykernel->vpython) (49.6.0.post20210108)\n",
      "Requirement already satisfied: prompt-toolkit!=3.0.0,!=3.0.1,<3.1.0,>=2.0.0 in /home/ec2-user/anaconda3/envs/chainer_p36/lib/python3.6/site-packages (from ipython>=5.0.0->ipykernel->vpython) (3.0.5)\n",
      "Requirement already satisfied: jedi>=0.10 in /home/ec2-user/anaconda3/envs/chainer_p36/lib/python3.6/site-packages (from ipython>=5.0.0->ipykernel->vpython) (0.17.2)\n",
      "Requirement already satisfied: backcall in /home/ec2-user/anaconda3/envs/chainer_p36/lib/python3.6/site-packages (from ipython>=5.0.0->ipykernel->vpython) (0.2.0)\n",
      "Requirement already satisfied: decorator in /home/ec2-user/anaconda3/envs/chainer_p36/lib/python3.6/site-packages (from ipython>=5.0.0->ipykernel->vpython) (4.4.2)\n",
      "Requirement already satisfied: pygments in /home/ec2-user/anaconda3/envs/chainer_p36/lib/python3.6/site-packages (from ipython>=5.0.0->ipykernel->vpython) (2.8.0)\n",
      "Requirement already satisfied: parso<0.8.0,>=0.7.0 in /home/ec2-user/anaconda3/envs/chainer_p36/lib/python3.6/site-packages (from jedi>=0.10->ipython>=5.0.0->ipykernel->vpython) (0.7.0)\n",
      "Requirement already satisfied: wcwidth in /home/ec2-user/anaconda3/envs/chainer_p36/lib/python3.6/site-packages (from prompt-toolkit!=3.0.0,!=3.0.1,<3.1.0,>=2.0.0->ipython>=5.0.0->ipykernel->vpython) (0.2.5)\n",
      "Requirement already satisfied: ipython-genutils in /home/ec2-user/anaconda3/envs/chainer_p36/lib/python3.6/site-packages (from traitlets>=4.1.0->ipykernel->vpython) (0.2.0)\n",
      "Requirement already satisfied: six in /home/ec2-user/anaconda3/envs/chainer_p36/lib/python3.6/site-packages (from traitlets>=4.1.0->ipykernel->vpython) (1.15.0)\n",
      "Requirement already satisfied: notebook in /home/ec2-user/anaconda3/envs/chainer_p36/lib/python3.6/site-packages (from jupyter->vpython) (6.2.0)\n",
      "Requirement already satisfied: nbconvert in /home/ec2-user/anaconda3/envs/chainer_p36/lib/python3.6/site-packages (from jupyter->vpython) (6.0.7)\n",
      "Requirement already satisfied: ipywidgets in /home/ec2-user/anaconda3/envs/chainer_p36/lib/python3.6/site-packages (from jupyter->vpython) (7.6.3)\n",
      "Requirement already satisfied: jupyter-console in /home/ec2-user/anaconda3/envs/chainer_p36/lib/python3.6/site-packages (from jupyter->vpython) (6.4.0)\n",
      "Requirement already satisfied: qtconsole in /home/ec2-user/anaconda3/envs/chainer_p36/lib/python3.6/site-packages (from jupyter->vpython) (5.0.2)\n",
      "Requirement already satisfied: widgetsnbextension~=3.5.0 in /home/ec2-user/anaconda3/envs/chainer_p36/lib/python3.6/site-packages (from ipywidgets->jupyter->vpython) (3.5.1)\n",
      "Requirement already satisfied: jupyterlab-widgets>=1.0.0 in /home/ec2-user/anaconda3/envs/chainer_p36/lib/python3.6/site-packages (from ipywidgets->jupyter->vpython) (1.0.0)\n",
      "Requirement already satisfied: nbformat>=4.2.0 in /home/ec2-user/anaconda3/envs/chainer_p36/lib/python3.6/site-packages (from ipywidgets->jupyter->vpython) (5.1.2)\n",
      "Requirement already satisfied: jupyter-core in /home/ec2-user/anaconda3/envs/chainer_p36/lib/python3.6/site-packages (from nbformat>=4.2.0->ipywidgets->jupyter->vpython) (4.7.1)\n",
      "Requirement already satisfied: jsonschema!=2.5.0,>=2.4 in /home/ec2-user/anaconda3/envs/chainer_p36/lib/python3.6/site-packages (from nbformat>=4.2.0->ipywidgets->jupyter->vpython) (3.2.0)\n",
      "Requirement already satisfied: pyrsistent>=0.14.0 in /home/ec2-user/anaconda3/envs/chainer_p36/lib/python3.6/site-packages (from jsonschema!=2.5.0,>=2.4->nbformat>=4.2.0->ipywidgets->jupyter->vpython) (0.17.3)\n",
      "Requirement already satisfied: importlib-metadata in /home/ec2-user/anaconda3/envs/chainer_p36/lib/python3.6/site-packages (from jsonschema!=2.5.0,>=2.4->nbformat>=4.2.0->ipywidgets->jupyter->vpython) (3.7.0)\n",
      "Requirement already satisfied: attrs>=17.4.0 in /home/ec2-user/anaconda3/envs/chainer_p36/lib/python3.6/site-packages (from jsonschema!=2.5.0,>=2.4->nbformat>=4.2.0->ipywidgets->jupyter->vpython) (20.3.0)\n",
      "Requirement already satisfied: Send2Trash>=1.5.0 in /home/ec2-user/anaconda3/envs/chainer_p36/lib/python3.6/site-packages (from notebook->jupyter->vpython) (1.5.0)\n",
      "Requirement already satisfied: argon2-cffi in /home/ec2-user/anaconda3/envs/chainer_p36/lib/python3.6/site-packages (from notebook->jupyter->vpython) (20.1.0)\n",
      "Requirement already satisfied: pyzmq>=17 in /home/ec2-user/anaconda3/envs/chainer_p36/lib/python3.6/site-packages (from notebook->jupyter->vpython) (22.0.3)\n",
      "Requirement already satisfied: jinja2 in /home/ec2-user/anaconda3/envs/chainer_p36/lib/python3.6/site-packages (from notebook->jupyter->vpython) (2.11.3)\n",
      "Requirement already satisfied: prometheus-client in /home/ec2-user/anaconda3/envs/chainer_p36/lib/python3.6/site-packages (from notebook->jupyter->vpython) (0.9.0)\n",
      "Requirement already satisfied: terminado>=0.8.3 in /home/ec2-user/anaconda3/envs/chainer_p36/lib/python3.6/site-packages (from notebook->jupyter->vpython) (0.9.2)\n",
      "Requirement already satisfied: python-dateutil>=2.1 in /home/ec2-user/anaconda3/envs/chainer_p36/lib/python3.6/site-packages (from jupyter-client->ipykernel->vpython) (2.8.1)\n",
      "Requirement already satisfied: ptyprocess in /home/ec2-user/anaconda3/envs/chainer_p36/lib/python3.6/site-packages (from terminado>=0.8.3->notebook->jupyter->vpython) (0.7.0)\n",
      "Requirement already satisfied: typing-extensions>=3.6.4 in /home/ec2-user/anaconda3/envs/chainer_p36/lib/python3.6/site-packages (from importlib-metadata->jsonschema!=2.5.0,>=2.4->nbformat>=4.2.0->ipywidgets->jupyter->vpython) (3.10.0.0)\n",
      "Requirement already satisfied: zipp>=0.5 in /home/ec2-user/anaconda3/envs/chainer_p36/lib/python3.6/site-packages (from importlib-metadata->jsonschema!=2.5.0,>=2.4->nbformat>=4.2.0->ipywidgets->jupyter->vpython) (3.4.0)\n",
      "Requirement already satisfied: MarkupSafe>=0.23 in /home/ec2-user/anaconda3/envs/chainer_p36/lib/python3.6/site-packages (from jinja2->notebook->jupyter->vpython) (1.1.1)\n",
      "Requirement already satisfied: aiohttp in /home/ec2-user/anaconda3/envs/chainer_p36/lib/python3.6/site-packages (from jupyter-server-proxy->vpython) (3.7.4.post0)\n",
      "Requirement already satisfied: jupyter-server>=1.0 in /home/ec2-user/anaconda3/envs/chainer_p36/lib/python3.6/site-packages (from jupyter-server-proxy->vpython) (1.4.1)\n",
      "Requirement already satisfied: simpervisor>=0.4 in /home/ec2-user/anaconda3/envs/chainer_p36/lib/python3.6/site-packages (from jupyter-server-proxy->vpython) (0.4)\n",
      "Requirement already satisfied: anyio>=2.0.2 in /home/ec2-user/anaconda3/envs/chainer_p36/lib/python3.6/site-packages (from jupyter-server>=1.0->jupyter-server-proxy->vpython) (2.1.0)\n",
      "Requirement already satisfied: sniffio>=1.1 in /home/ec2-user/anaconda3/envs/chainer_p36/lib/python3.6/site-packages (from anyio>=2.0.2->jupyter-server>=1.0->jupyter-server-proxy->vpython) (1.2.0)\n",
      "Requirement already satisfied: dataclasses in /home/ec2-user/anaconda3/envs/chainer_p36/lib/python3.6/site-packages (from anyio>=2.0.2->jupyter-server>=1.0->jupyter-server-proxy->vpython) (0.7)\n",
      "Requirement already satisfied: async-generator in /home/ec2-user/anaconda3/envs/chainer_p36/lib/python3.6/site-packages (from anyio>=2.0.2->jupyter-server>=1.0->jupyter-server-proxy->vpython) (1.10)\n",
      "Requirement already satisfied: contextvars>=2.1 in /home/ec2-user/anaconda3/envs/chainer_p36/lib/python3.6/site-packages (from sniffio>=1.1->anyio>=2.0.2->jupyter-server>=1.0->jupyter-server-proxy->vpython) (2.4)\n",
      "Requirement already satisfied: immutables>=0.9 in /home/ec2-user/anaconda3/envs/chainer_p36/lib/python3.6/site-packages (from contextvars>=2.1->sniffio>=1.1->anyio>=2.0.2->jupyter-server>=1.0->jupyter-server-proxy->vpython) (0.15)\n",
      "Requirement already satisfied: multidict<7.0,>=4.5 in /home/ec2-user/anaconda3/envs/chainer_p36/lib/python3.6/site-packages (from aiohttp->jupyter-server-proxy->vpython) (5.1.0)\n",
      "Requirement already satisfied: chardet<5.0,>=2.0 in /home/ec2-user/anaconda3/envs/chainer_p36/lib/python3.6/site-packages (from aiohttp->jupyter-server-proxy->vpython) (3.0.4)\n",
      "Requirement already satisfied: idna-ssl>=1.0 in /home/ec2-user/anaconda3/envs/chainer_p36/lib/python3.6/site-packages (from aiohttp->jupyter-server-proxy->vpython) (1.1.0)\n",
      "Requirement already satisfied: async-timeout<4.0,>=3.0 in /home/ec2-user/anaconda3/envs/chainer_p36/lib/python3.6/site-packages (from aiohttp->jupyter-server-proxy->vpython) (3.0.1)\n",
      "Requirement already satisfied: yarl<2.0,>=1.0 in /home/ec2-user/anaconda3/envs/chainer_p36/lib/python3.6/site-packages (from aiohttp->jupyter-server-proxy->vpython) (1.6.3)\n",
      "Requirement already satisfied: defusedxml in /home/ec2-user/anaconda3/envs/chainer_p36/lib/python3.6/site-packages (from nbconvert->jupyter->vpython) (0.6.0)\n",
      "Requirement already satisfied: bleach in /home/ec2-user/anaconda3/envs/chainer_p36/lib/python3.6/site-packages (from nbconvert->jupyter->vpython) (3.3.0)\n",
      "Requirement already satisfied: nbclient<0.6.0,>=0.5.0 in /home/ec2-user/anaconda3/envs/chainer_p36/lib/python3.6/site-packages (from nbconvert->jupyter->vpython) (0.5.2)\n",
      "Requirement already satisfied: testpath in /home/ec2-user/anaconda3/envs/chainer_p36/lib/python3.6/site-packages (from nbconvert->jupyter->vpython) (0.4.4)\n",
      "Requirement already satisfied: mistune<2,>=0.8.1 in /home/ec2-user/anaconda3/envs/chainer_p36/lib/python3.6/site-packages (from nbconvert->jupyter->vpython) (0.8.4)\n",
      "Requirement already satisfied: entrypoints>=0.2.2 in /home/ec2-user/anaconda3/envs/chainer_p36/lib/python3.6/site-packages (from nbconvert->jupyter->vpython) (0.3)\n",
      "Requirement already satisfied: pandocfilters>=1.4.1 in /home/ec2-user/anaconda3/envs/chainer_p36/lib/python3.6/site-packages (from nbconvert->jupyter->vpython) (1.4.2)\n",
      "Requirement already satisfied: jupyterlab-pygments in /home/ec2-user/anaconda3/envs/chainer_p36/lib/python3.6/site-packages (from nbconvert->jupyter->vpython) (0.1.2)\n",
      "Requirement already satisfied: nest-asyncio in /home/ec2-user/anaconda3/envs/chainer_p36/lib/python3.6/site-packages (from nbclient<0.6.0,>=0.5.0->nbconvert->jupyter->vpython) (1.4.3)\n",
      "Requirement already satisfied: packaging in /home/ec2-user/anaconda3/envs/chainer_p36/lib/python3.6/site-packages (from bleach->nbconvert->jupyter->vpython) (20.9)\n",
      "Requirement already satisfied: webencodings in /home/ec2-user/anaconda3/envs/chainer_p36/lib/python3.6/site-packages (from bleach->nbconvert->jupyter->vpython) (0.5.1)\n",
      "Requirement already satisfied: pyparsing>=2.0.2 in /home/ec2-user/anaconda3/envs/chainer_p36/lib/python3.6/site-packages (from packaging->bleach->nbconvert->jupyter->vpython) (2.4.7)\n",
      "Requirement already satisfied: qtpy in /home/ec2-user/anaconda3/envs/chainer_p36/lib/python3.6/site-packages (from qtconsole->jupyter->vpython) (1.9.0)\n"
     ]
    }
   ],
   "source": [
    "!pip3 install vpython"
   ]
  },
  {
   "cell_type": "code",
   "execution_count": 133,
   "id": "96657c82",
   "metadata": {},
   "outputs": [],
   "source": [
    "import vpython"
   ]
  },
  {
   "cell_type": "code",
   "execution_count": 134,
   "id": "e3dadf17",
   "metadata": {},
   "outputs": [],
   "source": [
    "from sklearn.feature_extraction.text import TfidfVectorizer"
   ]
  },
  {
   "cell_type": "code",
   "execution_count": 135,
   "id": "353f94c9",
   "metadata": {
    "scrolled": true
   },
   "outputs": [],
   "source": [
    "#Import libraries\n",
    "import pandas as pd   # for importing & transforming data\n",
    "import numpy as np # an essential python module\n",
    "import re   # for regular expressions\n",
    "import seaborn as sn    # for charts\n",
    "import seaborn as sns    # for charts\n",
    "import matplotlib.pyplot as plt   # for wordclouds & charts\n",
    "import nltk\n",
    "import nltk.corpus\n",
    "from wordcloud import WordCloud,STOPWORDS\n",
    "from collections import Counter\n",
    "import itertools\n",
    "from io import StringIO  # python3 (or BytesIO for python2)\n",
    "import boto3"
   ]
  },
  {
   "cell_type": "code",
   "execution_count": 136,
   "id": "2bc9001f",
   "metadata": {},
   "outputs": [],
   "source": [
    "import seaborn as sns"
   ]
  },
  {
   "cell_type": "code",
   "execution_count": 137,
   "id": "7495cda7",
   "metadata": {},
   "outputs": [],
   "source": [
    "import plotly.express as px"
   ]
  },
  {
   "cell_type": "code",
   "execution_count": 259,
   "id": "4cabc3ca",
   "metadata": {},
   "outputs": [],
   "source": [
    "from IPython.display import clear_output"
   ]
  },
  {
   "cell_type": "code",
   "execution_count": 138,
   "id": "ca23075e",
   "metadata": {},
   "outputs": [
    {
     "name": "stderr",
     "output_type": "stream",
     "text": [
      "[nltk_data] Downloading package vader_lexicon to\n",
      "[nltk_data]     /home/ec2-user/nltk_data...\n",
      "[nltk_data]   Package vader_lexicon is already up-to-date!\n"
     ]
    }
   ],
   "source": [
    "# Import NLTK Library\n",
    "nltk.download('vader_lexicon')\n",
    "from nltk.sentiment.vader import SentimentIntensityAnalyzer\n",
    "analyzer = SentimentIntensityAnalyzer()"
   ]
  },
  {
   "cell_type": "markdown",
   "id": "2c8f7922",
   "metadata": {},
   "source": [
    "# 1. Data Loading and Exploratory Analysis"
   ]
  },
  {
   "cell_type": "code",
   "execution_count": 316,
   "id": "d591cb71",
   "metadata": {},
   "outputs": [],
   "source": [
    "# Read file from S3 Bucket\n",
    "data_file = 's3://daen690-goodfellas-data/GMU_CSD_Data1.csv'\n",
    "df_alldata = pd.read_csv(data_file)\n",
    "# Perform some preminalry analysis\n",
    "print('Number of instances = %d' % (df_alldata.shape[0]))\n",
    "print('Number of attributes = %d' % (df_alldata.shape[1]))\n",
    "df_alldata.head(20)"
   ]
  },
  {
   "cell_type": "markdown",
   "id": "9da910f0",
   "metadata": {},
   "source": [
    "# 2. Data Cleaning and Transformation"
   ]
  },
  {
   "cell_type": "code",
   "execution_count": 317,
   "id": "370ad321",
   "metadata": {},
   "outputs": [],
   "source": [
    "# Only take selected columns\n",
    "df_clean = df_alldata[['Unnamed: 0','Instance','Question','String Value','Created']]\n",
    "df_clean.shape\n"
   ]
  },
  {
   "cell_type": "code",
   "execution_count": 262,
   "id": "c94e49fb",
   "metadata": {
    "scrolled": false
   },
   "outputs": [],
   "source": [
    "df_clean.head()\n"
   ]
  },
  {
   "cell_type": "code",
   "execution_count": 319,
   "id": "df619dec",
   "metadata": {},
   "outputs": [],
   "source": [
    "# Tranpose values of 'Question' column into seperate columns. This removes duplicate Instance. \n",
    "df_clean = df_clean.pivot(index = ('Instance','Created'), columns = 'Question', values = 'String Value')\n",
    "df_clean.reset_index(inplace = True)\n",
    "df_clean.head(20)\n",
    "df_clean['Issue Resolved'].value_counts()\n"
   ]
  },
  {
   "cell_type": "code",
   "execution_count": 321,
   "id": "a7fdd98e",
   "metadata": {},
   "outputs": [],
   "source": [
    "df_clean.head()"
   ]
  },
  {
   "cell_type": "markdown",
   "id": "462a44d2",
   "metadata": {},
   "source": [
    "# 3. Breaking Created into Year, Month and Quarter"
   ]
  },
  {
   "cell_type": "code",
   "execution_count": 265,
   "id": "87bb907f",
   "metadata": {},
   "outputs": [],
   "source": [
    "# Creating new columns for Year, Month and Quarter from existing columnn 'Created'\n",
    "df_clean['year'] = pd.DatetimeIndex(df_clean['Created']).year\n",
    "df_clean['Month'] = pd.DatetimeIndex(df_clean['Created']).month\n",
    "df_clean['quarter'] = pd.to_datetime(df_clean['Created']).dt.quarter\n",
    "df_clean.shape\n"
   ]
  },
  {
   "cell_type": "code",
   "execution_count": 268,
   "id": "2b7c793a",
   "metadata": {},
   "outputs": [],
   "source": [
    "df_clean\n"
   ]
  },
  {
   "cell_type": "markdown",
   "id": "7735f820",
   "metadata": {},
   "source": [
    "# 4. Adding sentiment score against likert scale fields"
   ]
  },
  {
   "cell_type": "code",
   "execution_count": 146,
   "id": "cad20420",
   "metadata": {},
   "outputs": [],
   "source": [
    "# Create a new dataframe called df_likscale with three new columns. The columns contain the assinged score against\n",
    "# each sentiment\n",
    "df_likscale = df_clean\n",
    "df_likscale['Agent Sat Score'] = [1 if x == 'Very Satisfied' else 0.5 if x=='Satisfied' else 0 if x=='Neutral' \n",
    "                          else -0.5 if x=='Dissatisfied' else -1 if x=='Very Dissatisfied'\n",
    "                          else 'NaN' for x in df_clean['Agent Satisfaction']]\n",
    "\n",
    "df_likscale['Mngmt Sat Score'] = [1 if x == 'Very Satisfied' else 0.5 if x=='Satisfied' else 0 if x=='Neutral' \n",
    "                          else -0.5 if x=='Dissatisfied' else -1 if x=='Very Dissatisfied'\n",
    "                          else 'NaN' for x in df_clean['Management Satisfaction']]\n",
    "\n",
    "df_likscale['Time Sat Score'] = [1 if x == 'Very Satisfied' else 0.5 if x=='Satisfied' else 0 if x=='Neutral' \n",
    "                          else -0.5 if x=='Dissatisfied' else -1 if x=='Very Dissatisfied'\n",
    "                          else 'NaN' for x in df_clean['Time Satisfaction']]\n",
    "\n",
    "\n",
    "\n",
    "\n"
   ]
  },
  {
   "cell_type": "code",
   "execution_count": 269,
   "id": "94ea05a6",
   "metadata": {},
   "outputs": [],
   "source": [
    "df_likscale.head()\n"
   ]
  },
  {
   "cell_type": "markdown",
   "id": "96e34704",
   "metadata": {},
   "source": [
    "# 5. Creating new Dataframes for each comment type"
   ]
  },
  {
   "cell_type": "code",
   "execution_count": 322,
   "id": "8bcab364",
   "metadata": {
    "scrolled": true
   },
   "outputs": [],
   "source": [
    "# Create a new dataframe based on feedback column \n",
    "df_feedback = df_clean[['Instance','Feedback']]\n",
    "# Create a new dataframe based on management comment column \n",
    "df_management = df_clean[['Instance','Management Comment']]\n",
    "# Create a new dataframe based on Unresolved comment column \n",
    "df_unresolved = df_clean[['Instance','Unresolved Comment']]\n",
    "# Remove null values from the three dataframes\n",
    "df_feedback = df_feedback.dropna()\n",
    "df_management = df_management.dropna()\n",
    "df_unresolved = df_unresolved.dropna()\n",
    "# Create a blank lists to be used in removing whitespace enteries\n",
    "blank_fdbk = []  \n",
    "blank_mgmt = []\n",
    "blank_unres = []\n",
    "#Remove whitespace entries in feedback comments\n",
    "df_feedback = df_feedback.dropna()\n",
    "for i,x,rv in df_feedback.itertuples():  \n",
    "    if type(rv)==str:            \n",
    "        if rv.isspace():  \n",
    "            blank_fdbk.append(i)     \n",
    "\n",
    "df_feedback.drop(blank_fdbk, inplace=True)\n",
    "\n",
    "#Remove whitespace entries in management comments\n",
    "for i,x,rv in df_management.itertuples():  \n",
    "    if type(rv)==str:            \n",
    "        if rv.isspace():  \n",
    "            bblank_mgmt.append(i)     \n",
    "\n",
    "df_management.drop(blank_mgmt, inplace=True)\n",
    "\n",
    "#Remove whitespace entries in unresolved comments\n",
    "for i,x,rv in df_unresolved.itertuples():  \n",
    "    if type(rv)==str:            \n",
    "        if rv.isspace():  \n",
    "            blank_unres.append(i)     \n",
    "\n",
    "df_unresolved.drop(blank_unres, inplace=True)\n",
    "\n",
    "\n"
   ]
  },
  {
   "cell_type": "markdown",
   "id": "3a961c69",
   "metadata": {},
   "source": [
    "# 6. Creating Validation Datasets and Reading the Groundthruth Results"
   ]
  },
  {
   "cell_type": "code",
   "execution_count": 363,
   "id": "7c070fb5",
   "metadata": {
    "scrolled": true
   },
   "outputs": [
    {
     "data": {
      "text/plain": [
       "{'ResponseMetadata': {'RequestId': 'A2F74NFDPNPV8V52',\n",
       "  'HostId': 'KnxQRPY2r9PyVUESo1ZtLF6mHVkpJAaMPxf7RENJqILfVIwnhXguNsFLgg8xqViO+q30RU578Ak=',\n",
       "  'HTTPStatusCode': 200,\n",
       "  'HTTPHeaders': {'x-amz-id-2': 'KnxQRPY2r9PyVUESo1ZtLF6mHVkpJAaMPxf7RENJqILfVIwnhXguNsFLgg8xqViO+q30RU578Ak=',\n",
       "   'x-amz-request-id': 'A2F74NFDPNPV8V52',\n",
       "   'date': 'Sun, 02 May 2021 23:51:50 GMT',\n",
       "   'etag': '\"b42d3f3026867081bb5f9980ab18856b\"',\n",
       "   'content-length': '0',\n",
       "   'server': 'AmazonS3'},\n",
       "  'RetryAttempts': 0},\n",
       " 'ETag': '\"b42d3f3026867081bb5f9980ab18856b\"'}"
      ]
     },
     "execution_count": 363,
     "metadata": {},
     "output_type": "execute_result"
    }
   ],
   "source": [
    "# Export subset of comment dataframes into CSVs to use as input for Validation set \n",
    "\n",
    "bucket = 'sagemaker-us-east-1-237961066627'   # already created on S3\n",
    "\n",
    "# # Export management comments dataframe to a CSV\n",
    "\n",
    "csv_buffer = StringIO()\n",
    "df_management.to_json(csv_buffer)\n",
    "\n",
    "s3_resource = boto3.resource('s3')\n",
    "s3_resource.Object(bucket, 'management_comments_json.csv').put(Body=csv_buffer.getvalue())\n",
    "\n",
    "\n",
    "#####********* Below code is for exporting feedback and unresolved comments to Amazon Ground Truth. The code is\n",
    "#####********* commented because its incomplete. Can be incorporated in future.\n",
    "\n",
    "# # Export unresolved comments dataframe to a CSV\n",
    "\n",
    "# csv_buffer2 = StringIO()\n",
    "# n = 20\n",
    "# unresolved_training = df_unresolved.head(int(len(df_unresolved)*(20/100)))  # Export 20% of rows from unresolved comments dataframe to a CSV for training\n",
    "# unresolved_training.to_json(csv_buffer2)\n",
    "\n",
    "# s3_resource = boto3.resource('s3')\n",
    "# s3_resource.Object(bucket, 'subset_unresolved_comments_json.csv').put(Body=csv_buffer2.getvalue())\n",
    "\n",
    "#--\n",
    "# # Export all rows from unresolved comments dataframe to a CSV for training\n",
    "# csv_buffer2 = StringIO()\n",
    "# df_unresolved.to_json(csv_buffer2)\n",
    "\n",
    "# s3_resource = boto3.resource('s3')\n",
    "# s3_resource.Object(bucket, 'full_unresolved_comments_json.csv').put(Body=csv_buffer2.getvalue())\n",
    "#--\n",
    "\n",
    "# # Export feedback comments dataframe to a CSV\n",
    "\n",
    "# csv_buffer3 = StringIO()\n",
    "# n = 20\n",
    "# feedback_training = df_feedback.head(int(len(df_feedback)*(n/100))) # Export 20% of rows from feedback comments dataframe to a CSV for training\n",
    "# feedback_training.to_json(csv_buffer3)\n",
    "\n",
    "# s3_resource3 = boto3.resource('s3')\n",
    "# s3_resource3.Object(bucket, 'subset_feedback_comments_json.csv').put(Body=csv_buffer3.getvalue())\n",
    "\n",
    "\n",
    "# Export all rows from feedback comments dataframe to a CSV for training\n",
    "# csv_buffer3 = StringIO()\n",
    "# df_feedback.to_json(csv_buffer3)\n",
    "# s3_resource3 = boto3.resource('s3')\n",
    "# s3_resource3.Object(bucket, 'full_feedback_comments_json.csv').put(Body=csv_buffer3.getvalue())\n"
   ]
  },
  {
   "cell_type": "code",
   "execution_count": 364,
   "id": "46073467",
   "metadata": {},
   "outputs": [],
   "source": [
    "# Reading in labeled results from Ground Truth (S3 bucket)\n",
    "\n",
    "labeled_mgt = pd.read_json('s3://goodfellas-instance/Support-Desk-Comment-Sentiment-Classification-Mgt-Comments-v3/manifests/output/output.manifest', lines = True)\n",
    "#labeled_mgt.head()\n",
    "labeled_mgt.rename(columns = {\"Support-Desk-Comment-Sentiment-Classification-Mgt-Comments-v3-metadata\": \"metadata\"}, \n",
    "          inplace = True)\n",
    "labeled_mgt.head(20)\n",
    "\n",
    "# 0: positive\n",
    "# 1: neutral\n",
    "# 2: negative\n",
    "\n",
    "labeled_mgt = labeled_mgt['Support-Desk-Comment-Sentiment-Classification-Mgt-Comments-v3'].value_counts().reset_index()\n",
    "\n",
    "#labeled_mgt.head()\n",
    "# Counts \n",
    "#pos: 35 (11%);   \n",
    "#neu: 81 (26%)   \n",
    "#neg: 201 (63%)\n",
    "\n",
    "#type(labeled_mgt)\n",
    "#labeled_mgt_neu = labeled_mgt.loc[labeled_mgt['Support-Desk-Comment-Sentiment-Classification-Mgt-Comments-v3'] == 1,:]\n",
    "#labeled_mgt_neu = labeled_mgt.query(\"Support-Desk-Comment-Sentiment-Classification-Mgt-Comments-v3.str.contains(1)\")\n",
    "#labeled_mgt[labeled_mgt['metadata'].str.contains('Negative', na=False)]\n",
    "#labeled_mgt_neu.head(20)\n",
    "\n",
    "#labeled_mgt_neg = labeled_mgt.loc[labeled_mgt['Support-Desk-Comment-Sentiment-Classification-Mgt-Comments-v3'] == 2,:]\n",
    "#labeled_mgt_neg.head(20)\n",
    "\n",
    "\n",
    "# labeled_mgt_pos = labeled_mgt.loc[labeled_mgt['Support-Desk-Comment-Sentiment-Classification-Mgt-Comments-v3'] == 0,:]\n",
    "# labeled_mgt_pos.head(20)\n",
    "\n",
    "\n",
    "# reading in labeled unresolved  manifest file\n",
    "# reading in labeled feedback manifest file\n"
   ]
  },
  {
   "cell_type": "code",
   "execution_count": 365,
   "id": "3e8d9575",
   "metadata": {},
   "outputs": [],
   "source": [
    "# Assign postive, negative and neutral labels to index numbers\n",
    "labeled_mgt.loc[labeled_mgt['index'] == 0,['index']]='pos'\n",
    "labeled_mgt.loc[labeled_mgt['index'] == 1,['index']]='neu'\n",
    "labeled_mgt.loc[labeled_mgt['index'] == 2,['index']]='neg'"
   ]
  },
  {
   "cell_type": "code",
   "execution_count": 366,
   "id": "b4680795",
   "metadata": {},
   "outputs": [],
   "source": [
    "# Sort the dataframe on index\n",
    "labeled_mgt.sort_values(by=['index'], ascending=True)\n"
   ]
  },
  {
   "cell_type": "code",
   "execution_count": 367,
   "id": "a6a77a65",
   "metadata": {},
   "outputs": [],
   "source": [
    "# Rename the dataframe columns\n",
    "labeled_mgt= labeled_mgt.rename(columns = {\"index\":\"Sentiment\"})\n",
    "labeled_mgt= labeled_mgt.rename(columns = {\"Support-Desk-Comment-Sentiment-Classification-Mgt-Comments-v3\":\"Labelled Count\"})\n",
    "labeled_mgt.head()\n"
   ]
  },
  {
   "cell_type": "markdown",
   "id": "117a6dc7",
   "metadata": {},
   "source": [
    "# 7. Apply VADER on Unresolved, Feedback and Management Comments "
   ]
  },
  {
   "cell_type": "code",
   "execution_count": 324,
   "id": "2dfbad4e",
   "metadata": {},
   "outputs": [],
   "source": [
    "# Using VADER SentimentIntensityAnalyzer() get the polarity score for each comment\n",
    "\n",
    "analyzer = SentimentIntensityAnalyzer()\n",
    "# For Unresolved comments\n",
    "df_unresolved['Score'] = df_unresolved['Unresolved Comment'].apply(lambda review: analyzer.polarity_scores(review))\n",
    "# For Feedback comments\n",
    "df_feedback['Score'] = df_feedback['Feedback'].apply(lambda review: analyzer.polarity_scores(review))\n",
    "# For Management comments\n",
    "df_management['Score'] = df_management['Management Comment'].apply(lambda review: analyzer.polarity_scores(review))\n"
   ]
  },
  {
   "cell_type": "code",
   "execution_count": 325,
   "id": "f0f28bc4",
   "metadata": {},
   "outputs": [],
   "source": [
    "# Get the compound score based on polarity scores\n",
    "# For Negative comments\n",
    "df_unresolved['compound']  = df_unresolved['Score'].apply(lambda score_dict: score_dict['compound'])\n",
    "# For Feedback commments\n",
    "df_feedback['compound']  = df_feedback['Score'].apply(lambda score_dict: score_dict['compound'])\n",
    "# For Management Comments\n",
    "df_management['compound']  = df_management['Score'].apply(lambda score_dict: score_dict['compound'])"
   ]
  },
  {
   "cell_type": "code",
   "execution_count": 344,
   "id": "925895ff",
   "metadata": {},
   "outputs": [],
   "source": [
    "##### Classify the sentiment \n",
    "#df_unresolved['Sentiment'] = df_unresolved['compound'].apply(lambda c: 'pos' if c >0.25 else ('neu' if c <=0.25 and c >= - 0.25 else 'neg'))\n",
    "df_unresolved['Sentiment'] = df_unresolved['compound'].apply(lambda c: 'pos' if c >0.55 else ('neu' if c <=0.55 and c >= 0.4 else 'neg'))\n",
    "# Feedback comments\n",
    "#df_feedback['Sentiment'] = df_feedback['compound'].apply(lambda c: 'pos' if c >0.25 else ('neu' if c <=0.25 and c >= - 0.25 else 'neg'))\n",
    "df_feedback['Sentiment'] = df_feedback['compound'].apply(lambda c: 'pos' if c >0.55 else ('neu' if c <=0.55 and c >= 0.4 else 'neg'))\n",
    "# Management commments\n",
    "#df_management['Sentiment'] = df_management['compound'].apply(lambda c: 'pos' if c >0.25 else ('neu' if c <=0.25 and c >= - 0.25 else 'neg'))\n",
    "df_management['Sentiment'] = df_management['compound'].apply(lambda c: 'pos' if c >0.55 else ('neu' if c <=0.55 and c >= 0.4 else 'neg'))\n",
    "\n",
    "df_unresolved_count = df_unresolved['Sentiment'].value_counts().reset_index()\n",
    "df_unresolved_count # pos: 694; neu: 254; neg: 1833\n",
    "\n",
    "df_feedback_count = df_feedback['Sentiment'].value_counts().reset_index()\n",
    "df_feedback_count # pos: 3,258; neu: 936; neg: 1727\n",
    "\n",
    "df_mng_count = df_management['Sentiment'].value_counts().reset_index()\n",
    "#df_mng_count # pos: 49; neu: 31; neg: 182\n",
    "\n",
    "\n",
    "\n"
   ]
  },
  {
   "cell_type": "markdown",
   "id": "0e2cbba6",
   "metadata": {},
   "source": [
    "# 8. Analyzing the Vader Results and Comparison with Manually Labelled Comments"
   ]
  },
  {
   "cell_type": "code",
   "execution_count": 346,
   "id": "83c870cd",
   "metadata": {},
   "outputs": [],
   "source": [
    "df_unresolved_comment = pd.concat([df_unresolved, df_unresolved['Score'].apply(pd.Series)], axis = 1).drop('Score', axis = 1)\n",
    "df_unresolved_comment.head()\n",
    "\n",
    "\n",
    "df_feedback_comment = pd.concat([df_feedback, df_feedback['Score'].apply(pd.Series)], axis = 1).drop('Score', axis = 1)\n",
    "df_feedback_comment.head()\n",
    "\n",
    "# show top 25 highest scoring positive comments\n",
    "df_feedback_comment.sort_values(by=['pos'], ascending=False).head(25)\n",
    "\n",
    "\n",
    "# show top 25 highest scoring negative comments\n",
    "df_feedback_comment.sort_values(by=['neg'], ascending=False).head(25)\n",
    "\n",
    "\n",
    "df_feedback_comment[df_feedback_comment['Feedback'].str.len() > 85]\n",
    "\n",
    "\n",
    "pd.set_option('max_colwidth', None)\n",
    "df_feedback_comment[df_feedback_comment['Feedback'].str.contains('amazing')]\n",
    "\n",
    "\n"
   ]
  },
  {
   "cell_type": "code",
   "execution_count": 347,
   "id": "3eb190bd",
   "metadata": {},
   "outputs": [],
   "source": [
    "# Create Seperate data frame for positive comments\n",
    "df_unresolved_pos_comments = df_unresolved[df_unresolved['Sentiment']=='pos']\n",
    "# Create seperate data frame for neutral comments\n",
    "df_unresolved_neu_comments = df_unresolved[df_unresolved['Sentiment']=='neu']\n",
    "# Create seperate data frame for negative comments\n",
    "df_unresolved_neg_comments = df_unresolved[df_unresolved['Sentiment']=='neg']\n",
    "#df_unresolved_neg_comments.head()\n"
   ]
  },
  {
   "cell_type": "code",
   "execution_count": 348,
   "id": "f1f10b94",
   "metadata": {},
   "outputs": [],
   "source": [
    "# Checking total counts for neg,pos and neu comments for Management comments\n",
    "df_mng_count.head()\n"
   ]
  },
  {
   "cell_type": "code",
   "execution_count": 349,
   "id": "13cc4f40",
   "metadata": {},
   "outputs": [],
   "source": [
    "# Checking total counts for neg,pos and neu comments for Feedback comments\n",
    "df_feedback_count.head()\n"
   ]
  },
  {
   "cell_type": "code",
   "execution_count": 350,
   "id": "d67e3e7c",
   "metadata": {},
   "outputs": [],
   "source": [
    "# Checking total counts for neg,pos and neu comments for Unresolved comments\n",
    "df_unresolved_count.head()\n"
   ]
  },
  {
   "cell_type": "code",
   "execution_count": 351,
   "id": "8ea083c9",
   "metadata": {},
   "outputs": [],
   "source": [
    "# Sort the Management Comments count dataframe by index\n",
    "df_mng_count.sort_values(by=['index'], ascending=True)\n"
   ]
  },
  {
   "cell_type": "code",
   "execution_count": 352,
   "id": "e5211673",
   "metadata": {},
   "outputs": [],
   "source": [
    "# Rename the Management Comments count dataframe columns\n",
    "df_mng_count= df_mng_count.rename(columns = {\"Sentiment\":\"Vader Count\"})\n",
    "df_mng_count= df_mng_count.rename(columns = {\"index\":\"Sentiment\"})\n",
    "df_mng_count.head()\n"
   ]
  },
  {
   "cell_type": "code",
   "execution_count": 369,
   "id": "fe7494f2",
   "metadata": {},
   "outputs": [],
   "source": [
    "# joining data frames labeled_mgt and df_mng_count to show comparison between Vader and Manually labeled comments\n",
    "# Here were are only comparing management comments since we only did Ground Truth labelling for management comments\n",
    "df_mng_comb = labeled_mgt.merge(df_mng_count,how = 'inner', on = 'Sentiment')\n",
    "df_mng_comb.head()\n"
   ]
  },
  {
   "cell_type": "markdown",
   "id": "29183214",
   "metadata": {},
   "source": [
    "# 9. Combining Unresolved, Feedback and Management Comments into one dataframe "
   ]
  },
  {
   "cell_type": "code",
   "execution_count": 284,
   "id": "e3e6c3d3",
   "metadata": {},
   "outputs": [],
   "source": [
    "# Check data for df_unresolved \n",
    "df_unresolved.head(20)\n"
   ]
  },
  {
   "cell_type": "code",
   "execution_count": 370,
   "id": "6cd6f41b",
   "metadata": {
    "scrolled": true
   },
   "outputs": [],
   "source": [
    "# Drop and Rename Columns in Unresolved Comments dataframe\n",
    "#New_data.head(20)\n",
    "df_unres_comb = df_unresolved.drop(['Score','compound'],axis = 1)\n",
    "df_unres_comb = df_unresolved.rename(columns = {\"Unresolved Comment\":\"Comment\"})\n"
   ]
  },
  {
   "cell_type": "code",
   "execution_count": 371,
   "id": "21f9b8ea",
   "metadata": {},
   "outputs": [],
   "source": [
    "#Drop and Rename Columns in Management Comments dataframe\n",
    "df_mang_comb = df_management.drop(['Score','compound'],axis = 1)\n",
    "df_mang_comb = df_mang_comb.rename(columns = {\"Management Comment\":\"Comment\"})\n",
    "df_mang_comb.shape\n",
    "df_mang_comb.head()\n"
   ]
  },
  {
   "cell_type": "code",
   "execution_count": 372,
   "id": "7d5f2544",
   "metadata": {
    "scrolled": true
   },
   "outputs": [],
   "source": [
    "#Drop and Rename Columns in Feedback Comments dataframe\n",
    "df_fbck_comb = df_feedback.drop(['Score','compound'],axis = 1)\n",
    "df_fbck_comb = df_fbck_comb.rename(columns = {\"Feedback\":\"Comment\"})\n",
    "df_fbck_comb.shape\n"
   ]
  },
  {
   "cell_type": "code",
   "execution_count": 373,
   "id": "16676f01",
   "metadata": {},
   "outputs": [],
   "source": [
    "# Union all three comment types into a single data frame\n",
    "all_comments = pd.concat([df_unres_comb,df_mang_comb,df_fbck_comb])\n",
    "all_comments.head()\n",
    "pd.set_option('max_colwidth', None)\n",
    "all_comments[all_comments['Comment'].str.contains('amazing')]\n"
   ]
  },
  {
   "cell_type": "code",
   "execution_count": 374,
   "id": "f475fbb7",
   "metadata": {},
   "outputs": [],
   "source": [
    "# Count of sentiment values in all_comments\n",
    "all_comments_count = all_comments['Sentiment'].value_counts().reset_index()\n",
    "all_comments_count.head()\n",
    "# all_comments_count # pos: 4001; neu: 1221; neg: 3742\n"
   ]
  },
  {
   "cell_type": "code",
   "execution_count": 375,
   "id": "4310bc7e",
   "metadata": {},
   "outputs": [],
   "source": [
    "# count number of users that left comments  #8,044\n",
    "users = all_comments['Instance'].nunique()\n",
    "users\n"
   ]
  },
  {
   "cell_type": "code",
   "execution_count": 290,
   "id": "a9d7e925",
   "metadata": {},
   "outputs": [],
   "source": [
    "# # show top 25 highest scoring negative comments\n",
    "all_comments.sort_values(by=['compound'], ascending=True).head(25)\n"
   ]
  },
  {
   "cell_type": "code",
   "execution_count": 376,
   "id": "602a7fe5",
   "metadata": {},
   "outputs": [],
   "source": [
    "# count number of unique IDs for each sentiment  # positive: 3,897, neutral: 1197; negative: 3,296;\n",
    "unique = all_comments.groupby('Sentiment')['Instance'].nunique()\n",
    "unique\n"
   ]
  },
  {
   "cell_type": "code",
   "execution_count": 377,
   "id": "13f67d58",
   "metadata": {},
   "outputs": [],
   "source": [
    "# # show top 25 highest scoring positive comments\n",
    "all_comments.sort_values(by=['compound'], ascending=False).head(25)\n"
   ]
  },
  {
   "cell_type": "markdown",
   "id": "15b438ab",
   "metadata": {},
   "source": [
    "# 10. Assessing Sentiment by Comment Length "
   ]
  },
  {
   "cell_type": "code",
   "execution_count": 293,
   "id": "684d5ea5",
   "metadata": {},
   "outputs": [],
   "source": [
    "df_mang_comb.head()"
   ]
  },
  {
   "cell_type": "code",
   "execution_count": 378,
   "id": "cbd36411",
   "metadata": {},
   "outputs": [],
   "source": [
    "# Get Comment length (by number of charcters)\n",
    "all_comments['all_comments_length'] = all_comments['Comment'].str.len()\n",
    "all_comments.head()"
   ]
  },
  {
   "cell_type": "code",
   "execution_count": 379,
   "id": "cd1aa530",
   "metadata": {},
   "outputs": [],
   "source": [
    "# Get correlation coefficient for compound score vs. comment length \n",
    "all_comments['compound'].corr(all_comments['all_comments_length'])\n"
   ]
  },
  {
   "cell_type": "code",
   "execution_count": 380,
   "id": "3607fb3b",
   "metadata": {},
   "outputs": [],
   "source": [
    "# Get correlation coefficient for neg score vs. comment length\n",
    "df_unresolved_comment['length'] = df_unresolved_comment['Unresolved Comment'].str.len()\n",
    "df_management['length'] = df_management['Management Comment'].str.len()\n",
    "df_feedback['length'] = df_feedback['Feedback'].str.len()\n"
   ]
  },
  {
   "cell_type": "code",
   "execution_count": 296,
   "id": "b3d843f0",
   "metadata": {},
   "outputs": [],
   "source": [
    "all_comments.head()"
   ]
  },
  {
   "cell_type": "code",
   "execution_count": 381,
   "id": "03a61b01",
   "metadata": {},
   "outputs": [],
   "source": [
    "# Get correlation coefficient for neg score vs. comment length\n",
    "df_unresolved_comment['neg'].corr(df_unresolved_comment['length'])\n"
   ]
  },
  {
   "cell_type": "code",
   "execution_count": 298,
   "id": "10c6f846",
   "metadata": {
    "scrolled": false
   },
   "outputs": [
    {
     "data": {
      "image/png": "[encoded data removed]",
      "text/plain": [
       "<Figure size 432x288 with 1 Axes>"
      ]
     },
     "metadata": {},
     "output_type": "display_data"
    }
   ],
   "source": [
    "all_comments.plot(x='compound', y='all_comments_length', style='o')\n",
    "sns.set_theme(color_codes=True)\n",
    "#ax = sns.regplot(x=\"compound\", y=\"all_comments_length\", data=all_comments)"
   ]
  },
  {
   "cell_type": "code",
   "execution_count": 299,
   "id": "b6175e50",
   "metadata": {},
   "outputs": [],
   "source": [
    "# get percentiles\n",
    "all_comments['all_comments_length'].describe()"
   ]
  },
  {
   "cell_type": "code",
   "execution_count": 300,
   "id": "e3fa3a27",
   "metadata": {},
   "outputs": [
    {
     "data": {
      "image/png": "[encoded data removed]",
      "text/plain": [
       "<Figure size 432x288 with 1 Axes>"
      ]
     },
     "metadata": {},
     "output_type": "display_data"
    }
   ],
   "source": [
    "#boxplot of percentiles\n",
    "sns.set_context(\"paper\", rc={\"font.size\":18,\"axes.titlesize\":18,\"axes.labelsize\":18}) \n",
    "boxplot = sns.boxplot(palette = \"PuBu\", x=all_comments['all_comments_length']).set(title = 'Comments Length', xlabel='Number of Characters')\n",
    "all_comments['all_comments_length'].describe()"
   ]
  },
  {
   "cell_type": "code",
   "execution_count": 301,
   "id": "5d53be68",
   "metadata": {},
   "outputs": [],
   "source": [
    "#get average length by sentiment class (see if \"negative\" comments are longer in length)\n",
    "all_comments.groupby('Sentiment')['all_comments_length'].mean()\n",
    "all_comments.groupby('Sentiment')['all_comments_length'].median()"
   ]
  },
  {
   "cell_type": "code",
   "execution_count": 302,
   "id": "7f3adeb8",
   "metadata": {},
   "outputs": [],
   "source": [
    "# show comments with length > 500\n",
    "all_comments[all_comments['Comment'].str.len() > 500]"
   ]
  },
  {
   "cell_type": "code",
   "execution_count": 186,
   "id": "705d9a79",
   "metadata": {},
   "outputs": [],
   "source": [
    "#getting count of pos, neg, neu by bucket size, to see at what length comments start going from being more positive to more negative\n",
    "\n",
    "#create length buckets (eg. 50-99, 100-149, 150-199, etc.)\n",
    "length_sentiment_df = pd.DataFrame(data=all_comments, columns=['all_comments_length', 'Sentiment'])\n",
    "#bins = np.array([0, 250, 500, 750, 1000, 1250, 1500, 1750, 2000, 5000])\n",
    "\n",
    "#quartile bins\n",
    "bins = np.array([0, 41, 85, 172, 4284])"
   ]
  },
  {
   "cell_type": "code",
   "execution_count": 303,
   "id": "e5e09dc3",
   "metadata": {},
   "outputs": [],
   "source": [
    "#see where negative count outpaces positive count (if ever)\n",
    "#CONCLUSION: there is no length where there are more negative comments than positive\n",
    "#bins = np.array([172, 272, 372, 472, 572, 672, 772, 872, 972, 1072, 1172, 1272, 1372, 1472, 1572])\n",
    "\n",
    "#test bucket assignments\n",
    "length_sentiment_df[\"bucket\"] = pd.cut(length_sentiment_df.all_comments_length, bins)\n",
    "length_sentiment_df.head()"
   ]
  },
  {
   "cell_type": "code",
   "execution_count": 304,
   "id": "36792e5a",
   "metadata": {},
   "outputs": [],
   "source": [
    "# get count of pos, neg and neu comments within each bucket                             \n",
    "class_by_length = length_sentiment_df.groupby(['bucket'])['Sentiment'].value_counts()\n",
    "class_by_length.head()"
   ]
  },
  {
   "cell_type": "markdown",
   "id": "5c8842c8",
   "metadata": {},
   "source": [
    "# 11. Creating Seperate Data Frames for Positive, Neutral and Negative Sentiments "
   ]
  },
  {
   "cell_type": "code",
   "execution_count": 305,
   "id": "f9f93964",
   "metadata": {},
   "outputs": [],
   "source": [
    "# Create Seperate data frame for positive comments\n",
    "all_pos_comments = all_comments[all_comments['Sentiment']=='pos']\n",
    "all_pos_comments.count() # positive count = 6,041"
   ]
  },
  {
   "cell_type": "code",
   "execution_count": 306,
   "id": "0f117bfa",
   "metadata": {},
   "outputs": [],
   "source": [
    "# Create seperate data frame for neutral comments\n",
    "all_neu_comments = all_comments[all_comments['Sentiment']=='neu']\n",
    "all_neu_comments.count() # neutral count = 2,066"
   ]
  },
  {
   "cell_type": "code",
   "execution_count": 307,
   "id": "05f8e378",
   "metadata": {},
   "outputs": [],
   "source": [
    "# Create seperate data frame for negative comments\n",
    "all_neg_comments = all_comments[all_comments['Sentiment']=='neg']\n",
    "all_neg_comments.count() # negative count = 857\n"
   ]
  },
  {
   "cell_type": "markdown",
   "id": "4b2ed5b7",
   "metadata": {},
   "source": [
    "# 12. Data visualization"
   ]
  },
  {
   "cell_type": "markdown",
   "id": "ddef29db",
   "metadata": {},
   "source": [
    "## Wordcloud for all comments combined"
   ]
  },
  {
   "cell_type": "code",
   "execution_count": 308,
   "id": "1623428b",
   "metadata": {},
   "outputs": [],
   "source": [
    "all_comments.head()"
   ]
  },
  {
   "cell_type": "code",
   "execution_count": 1,
   "id": "d6aff449",
   "metadata": {},
   "outputs": [],
   "source": [
    "text = \" \".join(review for review in all_comments[\"Comment\"].astype(str))\n",
    "wordcloud = WordCloud(stopwords=STOPWORDS, mode = \"RGBA\", background_color=None, colormap=\"magma\", width=800, height=400).generate(text)\n",
    "plt.figure(figsize=(15,10))\n",
    "plt.imshow(wordcloud,interpolation='bilinear')\n",
    "plt.tight_layout(pad=0)\n",
    "plt.axis(\"off\")\n",
    "plt.show()"
   ]
  },
  {
   "cell_type": "markdown",
   "id": "fc4df7fe",
   "metadata": {},
   "source": [
    "## WordClouds for Unresolved, Management and Feedback Comments"
   ]
  },
  {
   "cell_type": "code",
   "execution_count": 194,
   "id": "cc0a2282",
   "metadata": {},
   "outputs": [],
   "source": [
    "def random_color_func(word=None, font_size=None, position=None,  orientation=None, font_path=None, random_state=None):\n",
    "    h = int(360.0 * 155.0 / 255.0)\n",
    "    s = int(100.0 * 255.0 / 255.0)\n",
    "    l = int(100.0 * float(random_state.randint(30, 120)) / 255.0)\n",
    "\n",
    "    return \"hsl({}, {}%, {}%)\".format(h, s, l)"
   ]
  },
  {
   "cell_type": "code",
   "execution_count": 2,
   "id": "213cd26c",
   "metadata": {},
   "outputs": [],
   "source": [
    "# Word Cloud on Unresolved Comments\n",
    "from nltk import word_tokenize, sent_tokenize\n",
    "text = \" \".join(review for review in df_unresolved[\"Unresolved Comment\"].astype(str))\n",
    "wordcloud = WordCloud(stopwords=STOPWORDS, mode = \"RGBA\", background_color=None, colormap=\"magma\", width=800, height=400).generate(text)\n",
    "plt.figure(figsize=(15,10))\n",
    "plt.imshow(wordcloud,interpolation='bilinear')\n",
    "plt.tight_layout(pad=0)\n",
    "plt.axis(\"off\")\n",
    "plt.savefig('Unresolved_wordcloud.png', transparent=True)\n",
    "plt.show()"
   ]
  },
  {
   "cell_type": "code",
   "execution_count": 3,
   "id": "cbf5f316",
   "metadata": {},
   "outputs": [],
   "source": [
    "# WordCloud for Feedback: \n",
    "text = \" \".join(review for review in df_feedback[\"Feedback\"].astype(str))\n",
    "wordcloud = WordCloud(stopwords=STOPWORDS, mode = \"RGBA\", background_color=None, colormap=\"magma\", width=800, height=400).generate(text)\n",
    "plt.figure(figsize=(15,10))\n",
    "plt.imshow(wordcloud,interpolation='bilinear')\n",
    "plt.tight_layout(pad=0)\n",
    "plt.axis(\"off\")\n",
    "plt.show()"
   ]
  },
  {
   "cell_type": "code",
   "execution_count": 4,
   "id": "dfc1cd97",
   "metadata": {},
   "outputs": [],
   "source": [
    "# WordCloud for Management Comments: \n",
    "text = \" \".join(review for review in df_management[\"Management Comment\"].astype(str))\n",
    "wordcloud = WordCloud(stopwords=STOPWORDS, mode = \"RGBA\", background_color=None, colormap=\"magma\", width=800, height=400).generate(text)\n",
    "plt.figure(figsize=(15,10))\n",
    "plt.imshow(wordcloud,interpolation='bilinear')\n",
    "plt.tight_layout(pad=0)\n",
    "plt.axis(\"off\")\n",
    "plt.show()"
   ]
  },
  {
   "cell_type": "markdown",
   "id": "25bfbba1",
   "metadata": {},
   "source": [
    "## Word Cloud for Positive, Neutral and Negative Comments"
   ]
  },
  {
   "cell_type": "code",
   "execution_count": 5,
   "id": "8d63f541",
   "metadata": {},
   "outputs": [],
   "source": [
    "# Word Cloud for Positive Comment\n",
    "text = \" \".join(review for review in all_pos_comments[\"Comment\"].astype(str))\n",
    "wordcloud = WordCloud(stopwords=STOPWORDS, mode = \"RGBA\", background_color=None, colormap=\"magma\", width=800, height=400).generate(text)\n",
    "plt.figure(figsize=(15,10))\n",
    "plt.imshow(wordcloud,interpolation='bilinear')\n",
    "plt.tight_layout(pad=0)\n",
    "plt.axis(\"off\")\n",
    "plt.show()"
   ]
  },
  {
   "cell_type": "code",
   "execution_count": 6,
   "id": "ceaa8b69",
   "metadata": {},
   "outputs": [],
   "source": [
    "# Word Cloud for Neutral Comment\n",
    "text = \" \".join(review for review in all_neu_comments[\"Comment\"].astype(str))\n",
    "wordcloud = WordCloud(stopwords=STOPWORDS, mode = \"RGBA\", background_color=None, colormap=\"magma\", width=800, height=400).generate(text)\n",
    "plt.figure(figsize=(15,10))\n",
    "plt.imshow(wordcloud,interpolation='bilinear')\n",
    "plt.tight_layout(pad=0)\n",
    "plt.axis(\"off\")\n",
    "plt.show()"
   ]
  },
  {
   "cell_type": "code",
   "execution_count": 7,
   "id": "0776e79e",
   "metadata": {},
   "outputs": [],
   "source": [
    "# Word Cloud for Negative Comment\n",
    "text = \" \".join(review for review in all_neg_comments[\"Comment\"].astype(str))\n",
    "wordcloud = WordCloud(stopwords=STOPWORDS, mode = \"RGBA\", background_color=None, colormap=\"magma\", width=800, height=400).generate(text)\n",
    "plt.figure(figsize=(15,10))\n",
    "plt.imshow(wordcloud,interpolation='bilinear')\n",
    "plt.tight_layout(pad=0)\n",
    "plt.axis(\"off\")\n",
    "plt.show()"
   ]
  },
  {
   "cell_type": "markdown",
   "id": "4d280cb4",
   "metadata": {},
   "source": [
    "## Bar Charts for Unresolved, Feedback and Mangement Comments"
   ]
  },
  {
   "cell_type": "code",
   "execution_count": 8,
   "id": "eb9c49f4",
   "metadata": {},
   "outputs": [],
   "source": [
    "\n",
    "# Barchart showing sentiments for Unresolved Comments\n",
    "df_unresolved['Sentiment'].value_counts().plot(kind='bar',title=\"Detected Sentiment of Management Comments\")"
   ]
  },
  {
   "cell_type": "code",
   "execution_count": 9,
   "id": "14c6a269",
   "metadata": {},
   "outputs": [],
   "source": [
    "# Barchart showing sentiments for feedback Comments\n",
    "df_feedback['Sentiment'].value_counts().plot(kind='bar',title=\"Detected Sentiment of Feedback Comments\")"
   ]
  },
  {
   "cell_type": "code",
   "execution_count": 10,
   "id": "4cc4c310",
   "metadata": {},
   "outputs": [],
   "source": [
    "# Barchart showing sentiments for Management Comments\n",
    "df_management['Sentiment'].value_counts().plot(kind='bar',title=\"Detected Sentiment of Management Comments\")"
   ]
  },
  {
   "cell_type": "markdown",
   "id": "f50c6260",
   "metadata": {},
   "source": [
    "## Bar Charts by Question Types"
   ]
  },
  {
   "cell_type": "code",
   "execution_count": 11,
   "id": "d843f672",
   "metadata": {},
   "outputs": [],
   "source": [
    "# # By Agent Satisfaction\n",
    "df_agensat = df_alldata.loc[df_alldata['Question']=='Agent Satisfaction',['Question','String Value']]\n",
    "df_agensat = df_agensat['String Value'].value_counts(dropna = False)\n",
    "df_agensat.plot(kind = \"bar\",title = \"Comment Types by Agent Satisfaction\")\n"
   ]
  },
  {
   "cell_type": "code",
   "execution_count": 12,
   "id": "a375a0e5",
   "metadata": {},
   "outputs": [],
   "source": [
    "# By Management Satisfaction\n",
    "df_mngsat = df_alldata.loc[df_alldata['Question']=='Management Satisfaction',['Question','String Value']]\n",
    "df_mngsat = df_mngsat['String Value'].value_counts(dropna = False)\n",
    "df_mngsat.plot(kind = \"bar\",title = \"Comment Types by Management Satisfaction\")\n",
    "df_mngsat.head()"
   ]
  },
  {
   "cell_type": "code",
   "execution_count": 13,
   "id": "a2dbcbf3",
   "metadata": {},
   "outputs": [],
   "source": [
    "# By Issue Resolved\n",
    "df_issres = df_alldata.loc[df_alldata['Question']=='Issue Resolved',['Question','String Value']]\n",
    "df_issres = df_issres['String Value'].value_counts(dropna = False)\n",
    "df_issres.plot(kind = \"bar\",title = \"Comment Types by Issue Resolved\")"
   ]
  },
  {
   "cell_type": "markdown",
   "id": "41264ea7",
   "metadata": {},
   "source": [
    "## Correlation Plot"
   ]
  },
  {
   "cell_type": "code",
   "execution_count": 14,
   "id": "f2b9d54c",
   "metadata": {},
   "outputs": [],
   "source": [
    "# correlation matrix of Agent Score, Mgmt Score and Time Score\n",
    "corr_df = pd.DataFrame(df_clean, columns=['Agent Sat Score', 'Mngmt Sat Score', 'Time Sat Score'])\n",
    "#corr_df = df5[['Agent Sat Score', 'Mngmt Sat Score', 'Time Sat Score']]\n",
    "corr_df = corr_df.astype(float)\n",
    "corrMatrix = corr_df.corr()\n",
    "#print(corrMatrix)\n",
    "sns.set(font_scale=1.4)\n",
    "plt.figure(figsize = (12,7))\n",
    "#sn.heatmap(corrMatrix, cmap=customPalette, annot=True, annot_kws={\"size\": 18})\n",
    "sn.heatmap(corrMatrix, cmap=\"flare\", annot=True, annot_kws={\"size\": 18})\n",
    "plt.show()"
   ]
  },
  {
   "cell_type": "markdown",
   "id": "7c961a46",
   "metadata": {},
   "source": [
    "## Quarter Wise Sentiment Analysis"
   ]
  },
  {
   "cell_type": "code",
   "execution_count": 15,
   "id": "0a704df9",
   "metadata": {},
   "outputs": [],
   "source": [
    "df_timeanalysis = all_comments.merge(df_clean,how = 'inner', on = 'Instance')\n",
    "df_quarter = df_timeanalysis.loc[df_timeanalysis['year']==2020,]\n",
    "df_quarter = df_timeanalysis[['quarter','Sentiment']]\n",
    "df_quarter= df_quarter.groupby(['quarter','Sentiment']).size().reset_index(name = 'Count')\n",
    "df_quarter.head()"
   ]
  },
  {
   "cell_type": "code",
   "execution_count": 221,
   "id": "d102fd87",
   "metadata": {},
   "outputs": [],
   "source": [
    "df_quarter = df_quarter.groupby(['quarter','Sentiment']).size().reset_index(name = 'Count')"
   ]
  },
  {
   "cell_type": "code",
   "execution_count": 16,
   "id": "0d01f705",
   "metadata": {},
   "outputs": [],
   "source": [
    "import plotly.express as px\n",
    "fig = px.bar(df_quarter, x=\"quarter\", y=\"Count\", color=\"Sentiment\", title=\"Long-Form Input\")\n",
    "fig.show()"
   ]
  },
  {
   "cell_type": "markdown",
   "id": "1f2262e8",
   "metadata": {},
   "source": [
    "## Month Wise Sentiment Analysis"
   ]
  },
  {
   "cell_type": "code",
   "execution_count": 223,
   "id": "eaccba3b",
   "metadata": {},
   "outputs": [],
   "source": [
    "\n",
    "df_timeanalysis['Month'] = df_timeanalysis['Month'].astype(str)\n",
    "df_timeanalysis['Month']=df_timeanalysis.Month.str.pad(2,side='left',fillchar='0')\n",
    "df_timeanalysis = df_timeanalysis.sort_values(by = 'Month')\n"
   ]
  },
  {
   "cell_type": "code",
   "execution_count": 17,
   "id": "8dbe6dc9",
   "metadata": {},
   "outputs": [],
   "source": [
    "import calendar\n",
    "\n",
    "#df_timeanalysis['Month'] = df_timeanalysis['Month'].apply(lambda x: calendar.month_abbr[x])\n",
    "df_timeanalysis['YearMonth'] = df_timeanalysis['year'].astype(str) + ' ' + df_timeanalysis['Month'].astype(str) \n",
    "df_timeanalysis = df_timeanalysis[['YearMonth','Sentiment']]\n",
    "df_timeanalysis = df_timeanalysis.groupby(['YearMonth','Sentiment']).size().reset_index(name = 'Count')\n",
    "df_timeanalysis.sort_values(by = 'YearMonth')\n",
    "df_timeanalysis.head(20)"
   ]
  },
  {
   "cell_type": "code",
   "execution_count": 18,
   "id": "973118b5",
   "metadata": {},
   "outputs": [],
   "source": [
    "import plotly.express as px\n",
    "import plotly.graph_objs as go\n",
    "\n",
    "#fig = px.line(df_timeanalysis, x='YearMonth', y='Count', color='Sentiment', color_discrete_sequence=px.colors.qualitative.Vivid)\n",
    "#fig = px.line(df_timeanalysis, x='YearMonth', y='Count', color='Sentiment', color_discrete_sequence=[\"DarkBlue\", \"DarkCyan\", \"DarkMagenta\"])\n",
    "#fig = px.line(df_timeanalysis, x='YearMonth', y='Count', color='Sentiment', color_discrete_sequence=px.colors.qualitative.Vivid, template=\"simple_white\")\n",
    "fig = px.line(df_timeanalysis, x='YearMonth', y='Count', color='Sentiment', color_discrete_sequence=[\"#00003d\",\"#8e008b\" ,\"#ff8300\"])\n",
    "fig.update_layout(xaxis = go.layout.XAxis(tickangle = 45), \n",
    "        font=dict(\n",
    "        family=\"Arial, monospace\",\n",
    "        size=16,\n",
    "        color=\"black\"\n",
    "    ))\n",
    "\n",
    "fig.show()\n",
    "# color schemes: https://plotly.com/python/discrete-color/\n",
    "# https://www.w3schools.com/cssref/css_colors.asp\n"
   ]
  },
  {
   "cell_type": "code",
   "execution_count": 234,
   "id": "a4c9983a",
   "metadata": {},
   "outputs": [],
   "source": [
    "fig.write_html(\"FIGURE.html\")  # Save to HTML"
   ]
  },
  {
   "cell_type": "markdown",
   "id": "482fa188",
   "metadata": {},
   "source": [
    "# DASH server - DONT NEED THIS FOR NOW"
   ]
  },
  {
   "cell_type": "code",
   "execution_count": 215,
   "id": "8663011c",
   "metadata": {},
   "outputs": [
    {
     "name": "stdout",
     "output_type": "stream",
     "text": [
      "Requirement already satisfied: jupyter-dash in /home/ec2-user/anaconda3/envs/chainer_p36/lib/python3.6/site-packages (0.4.0)\n",
      "Requirement already satisfied: ipykernel in /home/ec2-user/anaconda3/envs/chainer_p36/lib/python3.6/site-packages (from jupyter-dash) (5.5.0)\n",
      "Requirement already satisfied: requests in /home/ec2-user/anaconda3/envs/chainer_p36/lib/python3.6/site-packages (from jupyter-dash) (2.25.1)\n",
      "Requirement already satisfied: retrying in /home/ec2-user/anaconda3/envs/chainer_p36/lib/python3.6/site-packages (from jupyter-dash) (1.3.3)\n",
      "Requirement already satisfied: ipython in /home/ec2-user/anaconda3/envs/chainer_p36/lib/python3.6/site-packages (from jupyter-dash) (7.16.1)\n",
      "Requirement already satisfied: dash in /home/ec2-user/anaconda3/envs/chainer_p36/lib/python3.6/site-packages (from jupyter-dash) (1.20.0)\n",
      "Requirement already satisfied: flask in /home/ec2-user/anaconda3/envs/chainer_p36/lib/python3.6/site-packages (from jupyter-dash) (1.1.2)\n",
      "Requirement already satisfied: ansi2html in /home/ec2-user/anaconda3/envs/chainer_p36/lib/python3.6/site-packages (from jupyter-dash) (1.6.0)\n",
      "Requirement already satisfied: dash-html-components==1.1.3 in /home/ec2-user/anaconda3/envs/chainer_p36/lib/python3.6/site-packages (from dash->jupyter-dash) (1.1.3)\n",
      "Requirement already satisfied: dash-table==4.11.3 in /home/ec2-user/anaconda3/envs/chainer_p36/lib/python3.6/site-packages (from dash->jupyter-dash) (4.11.3)\n",
      "Requirement already satisfied: future in /home/ec2-user/anaconda3/envs/chainer_p36/lib/python3.6/site-packages (from dash->jupyter-dash) (0.18.2)\n",
      "Requirement already satisfied: dash-renderer==1.9.1 in /home/ec2-user/anaconda3/envs/chainer_p36/lib/python3.6/site-packages (from dash->jupyter-dash) (1.9.1)\n",
      "Requirement already satisfied: plotly in /home/ec2-user/anaconda3/envs/chainer_p36/lib/python3.6/site-packages (from dash->jupyter-dash) (4.14.3)\n",
      "Requirement already satisfied: dash-core-components==1.16.0 in /home/ec2-user/anaconda3/envs/chainer_p36/lib/python3.6/site-packages (from dash->jupyter-dash) (1.16.0)\n",
      "Requirement already satisfied: flask-compress in /home/ec2-user/anaconda3/envs/chainer_p36/lib/python3.6/site-packages (from dash->jupyter-dash) (1.9.0)\n",
      "Requirement already satisfied: Jinja2>=2.10.1 in /home/ec2-user/anaconda3/envs/chainer_p36/lib/python3.6/site-packages (from flask->jupyter-dash) (2.11.3)\n",
      "Requirement already satisfied: itsdangerous>=0.24 in /home/ec2-user/anaconda3/envs/chainer_p36/lib/python3.6/site-packages (from flask->jupyter-dash) (1.1.0)\n",
      "Requirement already satisfied: click>=5.1 in /home/ec2-user/anaconda3/envs/chainer_p36/lib/python3.6/site-packages (from flask->jupyter-dash) (7.1.2)\n",
      "Requirement already satisfied: Werkzeug>=0.15 in /home/ec2-user/anaconda3/envs/chainer_p36/lib/python3.6/site-packages (from flask->jupyter-dash) (1.0.1)\n",
      "Requirement already satisfied: MarkupSafe>=0.23 in /home/ec2-user/anaconda3/envs/chainer_p36/lib/python3.6/site-packages (from Jinja2>=2.10.1->flask->jupyter-dash) (1.1.1)\n",
      "Requirement already satisfied: brotli in /home/ec2-user/anaconda3/envs/chainer_p36/lib/python3.6/site-packages (from flask-compress->dash->jupyter-dash) (1.0.9)\n",
      "Requirement already satisfied: tornado>=4.2 in /home/ec2-user/anaconda3/envs/chainer_p36/lib/python3.6/site-packages (from ipykernel->jupyter-dash) (6.1)\n",
      "Requirement already satisfied: traitlets>=4.1.0 in /home/ec2-user/anaconda3/envs/chainer_p36/lib/python3.6/site-packages (from ipykernel->jupyter-dash) (4.3.3)\n",
      "Requirement already satisfied: jupyter-client in /home/ec2-user/anaconda3/envs/chainer_p36/lib/python3.6/site-packages (from ipykernel->jupyter-dash) (6.1.11)\n",
      "Requirement already satisfied: pexpect in /home/ec2-user/anaconda3/envs/chainer_p36/lib/python3.6/site-packages (from ipython->jupyter-dash) (4.8.0)\n",
      "Requirement already satisfied: prompt-toolkit!=3.0.0,!=3.0.1,<3.1.0,>=2.0.0 in /home/ec2-user/anaconda3/envs/chainer_p36/lib/python3.6/site-packages (from ipython->jupyter-dash) (3.0.5)\n",
      "Requirement already satisfied: backcall in /home/ec2-user/anaconda3/envs/chainer_p36/lib/python3.6/site-packages (from ipython->jupyter-dash) (0.2.0)\n",
      "Requirement already satisfied: decorator in /home/ec2-user/anaconda3/envs/chainer_p36/lib/python3.6/site-packages (from ipython->jupyter-dash) (4.4.2)\n",
      "Requirement already satisfied: setuptools>=18.5 in /home/ec2-user/anaconda3/envs/chainer_p36/lib/python3.6/site-packages (from ipython->jupyter-dash) (49.6.0.post20210108)\n",
      "Requirement already satisfied: pickleshare in /home/ec2-user/anaconda3/envs/chainer_p36/lib/python3.6/site-packages (from ipython->jupyter-dash) (0.7.5)\n",
      "Requirement already satisfied: pygments in /home/ec2-user/anaconda3/envs/chainer_p36/lib/python3.6/site-packages (from ipython->jupyter-dash) (2.8.0)\n",
      "Requirement already satisfied: jedi>=0.10 in /home/ec2-user/anaconda3/envs/chainer_p36/lib/python3.6/site-packages (from ipython->jupyter-dash) (0.17.2)\n",
      "Requirement already satisfied: parso<0.8.0,>=0.7.0 in /home/ec2-user/anaconda3/envs/chainer_p36/lib/python3.6/site-packages (from jedi>=0.10->ipython->jupyter-dash) (0.7.0)\n",
      "Requirement already satisfied: wcwidth in /home/ec2-user/anaconda3/envs/chainer_p36/lib/python3.6/site-packages (from prompt-toolkit!=3.0.0,!=3.0.1,<3.1.0,>=2.0.0->ipython->jupyter-dash) (0.2.5)\n",
      "Requirement already satisfied: ipython-genutils in /home/ec2-user/anaconda3/envs/chainer_p36/lib/python3.6/site-packages (from traitlets>=4.1.0->ipykernel->jupyter-dash) (0.2.0)\n",
      "Requirement already satisfied: six in /home/ec2-user/anaconda3/envs/chainer_p36/lib/python3.6/site-packages (from traitlets>=4.1.0->ipykernel->jupyter-dash) (1.15.0)\n",
      "Requirement already satisfied: pyzmq>=13 in /home/ec2-user/anaconda3/envs/chainer_p36/lib/python3.6/site-packages (from jupyter-client->ipykernel->jupyter-dash) (22.0.3)\n",
      "Requirement already satisfied: python-dateutil>=2.1 in /home/ec2-user/anaconda3/envs/chainer_p36/lib/python3.6/site-packages (from jupyter-client->ipykernel->jupyter-dash) (2.8.1)\n",
      "Requirement already satisfied: jupyter-core>=4.6.0 in /home/ec2-user/anaconda3/envs/chainer_p36/lib/python3.6/site-packages (from jupyter-client->ipykernel->jupyter-dash) (4.7.1)\n",
      "Requirement already satisfied: ptyprocess>=0.5 in /home/ec2-user/anaconda3/envs/chainer_p36/lib/python3.6/site-packages (from pexpect->ipython->jupyter-dash) (0.7.0)\n",
      "Requirement already satisfied: certifi>=2017.4.17 in /home/ec2-user/anaconda3/envs/chainer_p36/lib/python3.6/site-packages (from requests->jupyter-dash) (2020.12.5)\n",
      "Requirement already satisfied: urllib3<1.27,>=1.21.1 in /home/ec2-user/anaconda3/envs/chainer_p36/lib/python3.6/site-packages (from requests->jupyter-dash) (1.26.4)\n",
      "Requirement already satisfied: idna<3,>=2.5 in /home/ec2-user/anaconda3/envs/chainer_p36/lib/python3.6/site-packages (from requests->jupyter-dash) (2.10)\n",
      "Requirement already satisfied: chardet<5,>=3.0.2 in /home/ec2-user/anaconda3/envs/chainer_p36/lib/python3.6/site-packages (from requests->jupyter-dash) (3.0.4)\n",
      "Note: you may need to restart the kernel to use updated packages.\n"
     ]
    }
   ],
   "source": [
    "pip install jupyter-dash #Dont need this for now"
   ]
  },
  {
   "cell_type": "code",
   "execution_count": 216,
   "id": "fb728580",
   "metadata": {},
   "outputs": [],
   "source": [
    "\n",
    "from jupyter_dash import JupyterDash\n",
    "\n",
    "#JupyterDash.infer_jupyter_proxy_config()"
   ]
  },
  {
   "cell_type": "code",
   "execution_count": 217,
   "id": "5b9486e3",
   "metadata": {},
   "outputs": [
    {
     "name": "stdout",
     "output_type": "stream",
     "text": [
      "Dash app running on http://127.0.0.1:8050/\n"
     ]
    }
   ],
   "source": [
    "import dash\n",
    "import dash_core_components as dcc\n",
    "import dash_html_components as html\n",
    "import plotly.express as px\n",
    "import pandas as pd\n",
    "\n",
    "\n",
    "external_stylesheets = [\"https://codepen.io/chriddyp/pen/bWLwgP.css\"]\n",
    "\n",
    "app = JupyterDash(__name__, external_stylesheets=external_stylesheets)\n",
    "\n",
    "app.layout = html.Div(children = [\n",
    "    dcc.Graph(id = \"line-graph\",\n",
    "             figure =fig\n",
    "             )\n",
    "])\n",
    "\n",
    "\n",
    "if __name__ == '__main__':\n",
    "    app.run_server()"
   ]
  },
  {
   "cell_type": "code",
   "execution_count": 218,
   "id": "59c7aeda",
   "metadata": {},
   "outputs": [],
   "source": [
    "app.run_server(mode=\"jupyterlab\")"
   ]
  },
  {
   "cell_type": "markdown",
   "id": "886f3451",
   "metadata": {},
   "source": [
    "# Common word pairings (bigrams, trigrams) "
   ]
  },
  {
   "cell_type": "code",
   "execution_count": 219,
   "id": "e7121b28",
   "metadata": {
    "scrolled": true
   },
   "outputs": [],
   "source": [
    "#word pairings for unresolved comments\n",
    "\n",
    "#unresolved_comments_tokenized = nltk.word_tokenize(New_data)\n",
    "#nltk.download('punkt')\n",
    "\n",
    "# unresolved_comments_tokenized = df5['Unresolved Comment'].apply(word_tokenize)\n",
    "# unresolved_comments_bigrams = nltk.bigrams(unresolved_comments_tokenized)\n",
    "\n",
    "# #compute frequency distribution for all the bigrams in the text\n",
    "# fdist = nltk.FreqDist(unresolved_comments_bigrams)\n",
    "# for k,v in fdist.items():\n",
    "#     print(k,v)\n",
    "    "
   ]
  },
  {
   "cell_type": "markdown",
   "id": "1fe4b31d",
   "metadata": {},
   "source": [
    "# TF-IDF Vectorizer "
   ]
  },
  {
   "cell_type": "markdown",
   "id": "e3c819ad",
   "metadata": {},
   "source": [
    "Below is the code for TF-IDF Vectorizer. The code still need some tweaks to work in a proper manner. Can be used as a reference for future developments"
   ]
  },
  {
   "cell_type": "code",
   "execution_count": 97,
   "id": "081701c7",
   "metadata": {
    "scrolled": true
   },
   "outputs": [],
   "source": [
    "# Train on first 800 comments, then test on all 2771 comments"
   ]
  },
  {
   "cell_type": "code",
   "execution_count": 98,
   "id": "30b2951d",
   "metadata": {},
   "outputs": [],
   "source": [
    "\n",
    "# import nltk\n",
    "# from nltk.corpus import stopwords\n",
    "# nltk.download('stopwords')"
   ]
  },
  {
   "cell_type": "code",
   "execution_count": 99,
   "id": "8ec6730e",
   "metadata": {},
   "outputs": [],
   "source": [
    "# tf_train = New_data['Unresolved Comment'][0:800]"
   ]
  },
  {
   "cell_type": "code",
   "execution_count": 100,
   "id": "b393d074",
   "metadata": {},
   "outputs": [],
   "source": [
    "# tf_train = df_unresolved[0:800]"
   ]
  },
  {
   "cell_type": "code",
   "execution_count": 101,
   "id": "b91c75b4",
   "metadata": {},
   "outputs": [],
   "source": [
    "# tf_test = df_unresolved"
   ]
  },
  {
   "cell_type": "code",
   "execution_count": 102,
   "id": "5d27359e",
   "metadata": {},
   "outputs": [],
   "source": [
    "# tfidfvectorizer = TfidfVectorizer(analyzer='word' , stop_words='english',)"
   ]
  },
  {
   "cell_type": "code",
   "execution_count": 103,
   "id": "2324e113",
   "metadata": {},
   "outputs": [],
   "source": [
    "# tfidfvectorizer.fit(tf_train)"
   ]
  },
  {
   "cell_type": "code",
   "execution_count": 104,
   "id": "7de060d7",
   "metadata": {},
   "outputs": [],
   "source": [
    "# tfidf_train = tfidfvectorizer.transform(tf_train)"
   ]
  },
  {
   "cell_type": "code",
   "execution_count": 105,
   "id": "436b5857",
   "metadata": {},
   "outputs": [],
   "source": [
    "# tfidf_term_vectors = tfidfvectorizer.transform(tf_test)"
   ]
  },
  {
   "cell_type": "code",
   "execution_count": 106,
   "id": "eddb4702",
   "metadata": {},
   "outputs": [],
   "source": [
    "# tfidf_term_vectors.todense()"
   ]
  },
  {
   "cell_type": "code",
   "execution_count": 107,
   "id": "cc63505e",
   "metadata": {},
   "outputs": [],
   "source": [
    "# For first 5 Unresolved Comments, print the top 20 TF-IDF scores (separate training and testing) \n",
    "#    and the associated word (descending order)\n",
    "# Comments separated by New Line\n",
    "\n",
    "# for i in range(5):\n",
    "#     test_vec = tfidf_term_vectors[i]\n",
    "#     test_df = pd.DataFrame(test_vec.T.todense(), \n",
    "#                            index = tfidfvectorizer.get_feature_names(), \n",
    "#                            columns=[\"tfidf\"])\n",
    "#     print(test_df.sort_values(by=[\"tfidf\"],ascending=False)[:20])\n",
    "#     print('\\n')"
   ]
  },
  {
   "cell_type": "code",
   "execution_count": 108,
   "id": "59ea91f8",
   "metadata": {},
   "outputs": [],
   "source": [
    "# all_comments.head()"
   ]
  },
  {
   "cell_type": "code",
   "execution_count": 109,
   "id": "9c6a12c5",
   "metadata": {},
   "outputs": [],
   "source": [
    "# Tests and trains on all the comments at once\n",
    "#tfidf_test2 = tfidfvectorizer.fit_transform(all_comments['Comment'])"
   ]
  },
  {
   "cell_type": "code",
   "execution_count": 110,
   "id": "ac5ba00e",
   "metadata": {},
   "outputs": [],
   "source": [
    "# tfidf_test2.todense()"
   ]
  },
  {
   "cell_type": "code",
   "execution_count": 111,
   "id": "a028cf85",
   "metadata": {},
   "outputs": [],
   "source": [
    "# tfidf_words_df = pd.DataFrame"
   ]
  },
  {
   "cell_type": "code",
   "execution_count": 112,
   "id": "e54c3762",
   "metadata": {},
   "outputs": [],
   "source": [
    "# For first 5 Unresolved Comments, print the top 20 TF-IDF scores (train and test at once) \n",
    "#   and the associated word (descending order)\n",
    "# Comments separated by New LineTF-IDF\n",
    "\n",
    "# for i in range(5):\n",
    "#     test_vec = tfidf_test2[i]\n",
    "#     test_df = pd.DataFrame(test_vec.T.todense(), \n",
    "#                            index = tfidfvectorizer.get_feature_names(), \n",
    "#                            columns=[\"tfidf\"])\n",
    "#     print(test_df.sort_values(by=[\"tfidf\"],ascending=False)[:20])\n",
    "#     print('\\n')"
   ]
  },
  {
   "cell_type": "code",
   "execution_count": 113,
   "id": "353bf0ba",
   "metadata": {},
   "outputs": [],
   "source": [
    "# tfidf_words_df = test_df.sort_values(by=[\"tfidf\"],ascending=False).reset_index()\n",
    "# tfidf_words_df = tfidf_words_df.rename(columns = {\"index\":\"Words\"})\n",
    "# #df_unresolved.rename(columns = {\"Unresolved Comment\":\"Comment\"})\n",
    "# tfidf_words_df.head(20)"
   ]
  },
  {
   "cell_type": "code",
   "execution_count": 114,
   "id": "3ca277de",
   "metadata": {},
   "outputs": [],
   "source": [
    "# df = tfidf_words_df.head()\n",
    "# fig = px.bar(df, x=\"tfidf\", y= \"Words\", orientation='h')\n",
    "# fig.update_layout( yaxis=dict(autorange=\"reversed\"))\n",
    "# fig.show()"
   ]
  },
  {
   "cell_type": "code",
   "execution_count": 115,
   "id": "d157ee9e",
   "metadata": {},
   "outputs": [],
   "source": [
    "# for i in range(len(all_comments)):\n",
    "#     test_vec = tfidf_test2[i]\n",
    "#     test_df = pd.DataFrame(test_vec.T.todense(), \n",
    "#                            index = tfidfvectorizer.get_feature_names(), \n",
    "#                            columns=[\"tfidf\"])\n",
    "# #    print(test_df.sort_values(by=[\"tfidf\"],ascending=False)[:20])\n",
    "# #    print('\\n')\n",
    "#     test_df.sort_values(by=[\"tfidf\"],ascending=False)\n",
    "    \n",
    "#     for i in range(3):\n",
    "#         print(tfidf_words_df['Words'] )\n",
    "# #= test_df[i]\n",
    "    "
   ]
  },
  {
   "cell_type": "markdown",
   "id": "de8b0062",
   "metadata": {},
   "source": [
    "# Top words per cluster"
   ]
  },
  {
   "cell_type": "markdown",
   "id": "c6929eca",
   "metadata": {},
   "source": [
    "The code still need some tweaks to work in a proper manner. Can be used as a reference for future developments"
   ]
  },
  {
   "cell_type": "code",
   "execution_count": 116,
   "id": "0f587206",
   "metadata": {},
   "outputs": [],
   "source": [
    "# from sklearn.feature_extraction.text import CountVectorizer\n",
    "# count_vectorizer = CountVectorizer()"
   ]
  },
  {
   "cell_type": "code",
   "execution_count": 117,
   "id": "0b13dc0f",
   "metadata": {},
   "outputs": [],
   "source": [
    "# .fit_transfer TOKENIZES and COUNTS\n",
    "# X = count_vectorizer.fit_transform(tf_train)"
   ]
  },
  {
   "cell_type": "code",
   "execution_count": 118,
   "id": "6ae23e37",
   "metadata": {},
   "outputs": [],
   "source": [
    "# X.toarray()"
   ]
  },
  {
   "cell_type": "code",
   "execution_count": 119,
   "id": "f0fab7de",
   "metadata": {},
   "outputs": [],
   "source": [
    "# pd.DataFrame(X.toarray())"
   ]
  },
  {
   "cell_type": "code",
   "execution_count": 120,
   "id": "108a1000",
   "metadata": {},
   "outputs": [],
   "source": [
    "##What do all of those numbers mean????\n",
    "# count_vectorizer.get_feature_names()"
   ]
  },
  {
   "cell_type": "code",
   "execution_count": 121,
   "id": "81d313ee",
   "metadata": {},
   "outputs": [],
   "source": [
    "# from nltk.stem.porter import PorterStemmer\n",
    "# porter_stemmer = PorterStemmer()\n",
    "\n",
    "# def stemming_tokenizer(str_input):\n",
    "#     words = re.sub(r\"[^A-Za-z0-9\\-]\", \" \", str_input).lower().split()\n",
    "#     words = [porter_stemmer.stem(word) for word in words]\n",
    "#     return words\n",
    "\n",
    "# count_vectorizer = CountVectorizer(stop_words='english', tokenizer=stemming_tokenizer)\n",
    "# X = count_vectorizer.fit_transform(tf_train)\n",
    "# print(count_vectorizer.get_feature_names())"
   ]
  },
  {
   "cell_type": "code",
   "execution_count": 122,
   "id": "40fcd3cd",
   "metadata": {},
   "outputs": [],
   "source": [
    "# from sklearn.feature_extraction.text import TfidfVectorizer"
   ]
  },
  {
   "cell_type": "code",
   "execution_count": 123,
   "id": "2d601262",
   "metadata": {},
   "outputs": [],
   "source": [
    "#value = (number of times word appears in sentence) / (number of words in sentence)\n",
    "# tfidf_vectorizer = TfidfVectorizer(stop_words='english', tokenizer=stemming_tokenizer, use_idf=False, norm='l1')\n",
    "# X = tfidf_vectorizer.fit_transform(tf_train)\n",
    "# df8 = pd.DataFrame(X.toarray(), columns=tfidf_vectorizer.get_feature_names())\n",
    "# df8"
   ]
  },
  {
   "cell_type": "code",
   "execution_count": 124,
   "id": "db55d924",
   "metadata": {},
   "outputs": [],
   "source": [
    "# KMeans clustering is a method of clustering.\n",
    "# from sklearn.cluster import KMeans\n",
    "# number_of_clusters = 2\n",
    "# km = KMeans(n_clusters=number_of_clusters)\n",
    "# km.fit(X)"
   ]
  },
  {
   "cell_type": "code",
   "execution_count": 125,
   "id": "0965babc",
   "metadata": {},
   "outputs": [],
   "source": [
    "# vectorizer.get_feature_names()"
   ]
  },
  {
   "cell_type": "code",
   "execution_count": 126,
   "id": "835622e5",
   "metadata": {},
   "outputs": [],
   "source": [
    "# Initialize a vectorizer\n",
    "# vectorizer = TfidfVectorizer(use_idf=True, max_features=2, tokenizer=stemming_tokenizer, stop_words='english')\n",
    "# X = vectorizer.fit_transform(tf_train)"
   ]
  },
  {
   "cell_type": "code",
   "execution_count": 127,
   "id": "d23491bc",
   "metadata": {},
   "outputs": [],
   "source": [
    "# df = pd.DataFrame(X.toarray(), columns=vectorizer.get_feature_names())\n",
    "# df"
   ]
  },
  {
   "cell_type": "code",
   "execution_count": 646,
   "id": "5a7f364b",
   "metadata": {},
   "outputs": [],
   "source": [
    "# ax = df.plot(kind='scatter', x='pleas', y='thi', alpha=0.1, s=300)\n",
    "# ax.set_xlabel(\"pleas\")\n",
    "# ax.set_ylabel(\"thi\")"
   ]
  },
  {
   "cell_type": "code",
   "execution_count": 647,
   "id": "f3a737c3",
   "metadata": {},
   "outputs": [],
   "source": [
    "# results = pd.DataFrame()\n",
    "# results['text'] = tf_train\n",
    "# results['category'] = km.labels_\n",
    "# results"
   ]
  },
  {
   "cell_type": "code",
   "execution_count": 648,
   "id": "89872a48",
   "metadata": {},
   "outputs": [],
   "source": [
    "# number_of_clusters = 3\n",
    "# km = KMeans(n_clusters=number_of_clusters)\n",
    "# km.fit(X)\n",
    "# df8['category'] = km.labels_\n",
    "# df8"
   ]
  },
  {
   "cell_type": "code",
   "execution_count": 649,
   "id": "365ee622",
   "metadata": {},
   "outputs": [],
   "source": [
    "# print(\"Top terms per cluster:\")\n",
    "# order_centroids = km.cluster_centers_.argsort()[:, ::-1]\n",
    "# terms = vectorizer.get_feature_names()\n",
    "# for i in range(number_of_clusters):\n",
    "#     top_ten_words = [terms[ind] for ind in order_centroids[i, :5]]\n",
    "#     print(\"Cluster {}: {}\".format(i, ' '.join(top_ten_words)))"
   ]
  },
  {
   "cell_type": "code",
   "execution_count": 650,
   "id": "4a42303b",
   "metadata": {},
   "outputs": [],
   "source": [
    "# color_list = ['r', 'b', 'g', 'y']\n",
    "# colors = [color_list[i] for i in df['category']]\n",
    "\n",
    "# ax = df.plot(kind='scatter', x='pleas', y='thi', alpha=0.1, s=300, c=colors)\n",
    "# ax.set_xlabel(\"pleas\")\n",
    "# ax.set_ylabel(\"thi\")"
   ]
  },
  {
   "cell_type": "code",
   "execution_count": 651,
   "id": "8a3ca7fb",
   "metadata": {},
   "outputs": [],
   "source": [
    "# # Initialize a vectorizer\n",
    "# vectorizer = TfidfVectorizer(use_idf=True, max_features=3, tokenizer=stemming_tokenizer, stop_words='english')\n",
    "# X = vectorizer.fit_transform(tf_train)"
   ]
  },
  {
   "cell_type": "code",
   "execution_count": 652,
   "id": "8effc58f",
   "metadata": {},
   "outputs": [],
   "source": [
    "# vectorizer.get_feature_names()"
   ]
  },
  {
   "cell_type": "code",
   "execution_count": 653,
   "id": "90bb0956",
   "metadata": {},
   "outputs": [],
   "source": [
    "# df = pd.DataFrame(X.toarray(), columns=vectorizer.get_feature_names())\n",
    "# df"
   ]
  },
  {
   "cell_type": "code",
   "execution_count": 654,
   "id": "bc607197",
   "metadata": {},
   "outputs": [],
   "source": [
    "# from sklearn.cluster import KMeans\n",
    "\n",
    "# number_of_clusters = 4\n",
    "# km = KMeans(n_clusters=number_of_clusters)\n",
    "# km.fit(X)\n",
    "# df['category'] = km.labels_"
   ]
  },
  {
   "cell_type": "code",
   "execution_count": 655,
   "id": "9e5d3345",
   "metadata": {},
   "outputs": [],
   "source": [
    "# df['text'] = tf_train\n",
    "# df"
   ]
  },
  {
   "cell_type": "code",
   "execution_count": 656,
   "id": "6fecd38d",
   "metadata": {},
   "outputs": [],
   "source": [
    "# import matplotlib.pyplot as plt\n",
    "# from mpl_toolkits.mplot3d import Axes3D\n",
    "\n",
    "# def draw(ax, df):\n",
    "#     color_list = ['r', 'b', 'g', 'y']\n",
    "#     colors = [color_list[i] for i in df['category']]\n",
    "\n",
    "#     marker_list = ['o', 'x', 'v', 'X']\n",
    "#     markers = [marker_list[i] for i in df['category']]\n",
    "\n",
    "#     ax.scatter(df8['pleas'], df8['thi'], df8['wa'], c=colors, s=100, alpha=0.5)\n",
    "#     ax.set_xlabel('pleas')\n",
    "#     ax.set_ylabel('thi')\n",
    "#     ax.set_zlabel('wa')\n",
    "\n",
    "# chart_count_vert = 5\n",
    "# chart_count_horiz = 5\n",
    "# number_of_graphs = chart_count_vert * chart_count_horiz\n",
    "\n",
    "# fig = plt.figure(figsize=(3 * chart_count_horiz, 3 * chart_count_vert))\n",
    "\n",
    "# for i in range(number_of_graphs):\n",
    "#     ax = fig.add_subplot(chart_count_horiz, chart_count_vert, i + 1, projection='3d', azim=(-360 / number_of_graphs) * i)\n",
    "#     draw(ax, df8)"
   ]
  },
  {
   "cell_type": "code",
   "execution_count": null,
   "id": "44942b20",
   "metadata": {},
   "outputs": [],
   "source": []
  },
  {
   "cell_type": "code",
   "execution_count": null,
   "id": "e6855e7b",
   "metadata": {},
   "outputs": [],
   "source": []
  },
  {
   "cell_type": "code",
   "execution_count": null,
   "id": "198b350a",
   "metadata": {},
   "outputs": [],
   "source": []
  },
  {
   "cell_type": "code",
   "execution_count": null,
   "id": "f3e6a191",
   "metadata": {},
   "outputs": [],
   "source": []
  },
  {
   "cell_type": "code",
   "execution_count": null,
   "id": "7ac78f08",
   "metadata": {},
   "outputs": [],
   "source": []
  },
  {
   "cell_type": "code",
   "execution_count": null,
   "id": "c5755271",
   "metadata": {},
   "outputs": [],
   "source": []
  }
 ],
 "metadata": {
  "kernelspec": {
   "display_name": "conda_chainer_p36",
   "language": "python",
   "name": "conda_chainer_p36"
  },
  "language_info": {
   "codemirror_mode": {
    "name": "ipython",
    "version": 3
   },
   "file_extension": ".py",
   "mimetype": "text/x-python",
   "name": "python",
   "nbconvert_exporter": "python",
   "pygments_lexer": "ipython3",
   "version": "3.6.13"
  }
 },
 "nbformat": 4,
 "nbformat_minor": 5
}
